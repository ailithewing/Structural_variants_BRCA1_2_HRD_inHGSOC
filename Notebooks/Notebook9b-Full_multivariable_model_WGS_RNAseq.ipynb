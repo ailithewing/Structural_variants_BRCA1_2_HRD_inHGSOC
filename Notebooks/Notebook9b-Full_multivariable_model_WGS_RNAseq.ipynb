{
 "cells": [
  {
   "cell_type": "markdown",
   "metadata": {},
   "source": [
    "*Ewing et al (2020) Structural variants at the BRCA1/2 loci are a common source of homologous repair deficiency in high grade serous ovarian carcinoma*"
   ]
  },
  {
   "cell_type": "markdown",
   "metadata": {},
   "source": [
    "# Notebook 9b - Multivariable modelling using elastic net on full WGS & RNAseq features"
   ]
  },
  {
   "cell_type": "markdown",
   "metadata": {},
   "source": [
    "## Load libraries"
   ]
  },
  {
   "cell_type": "code",
   "execution_count": 58,
   "metadata": {
    "collapsed": false
   },
   "outputs": [],
   "source": [
    "library(tximport)\n",
    "require(DESeq2)\n",
    "library(caret)\n",
    "library(caTools)"
   ]
  },
  {
   "cell_type": "markdown",
   "metadata": {},
   "source": [
    "## Load dataset"
   ]
  },
  {
   "cell_type": "code",
   "execution_count": 59,
   "metadata": {
    "collapsed": false
   },
   "outputs": [],
   "source": [
    "load(\"Robjecttosetup_multivariablemodel_full.RData\")"
   ]
  },
  {
   "cell_type": "markdown",
   "metadata": {},
   "source": [
    "## Model"
   ]
  },
  {
   "cell_type": "markdown",
   "metadata": {},
   "source": [
    "This section performs the following steps 50 times:\n",
    "\n",
    "- Partition the data\n",
    "- Identify DE genes between HRD and HRP ground truth sets in the training\n",
    "- Determine the HRD expression sig value in training and test sets independently\n",
    "- Fit an elastic net on the training set using 10-fold cross validation to determine parameters\n",
    "- Extract model coefficients\n",
    "- Extract model performance metrics\n",
    "\n",
    "    "
   ]
  },
  {
   "cell_type": "code",
   "execution_count": 60,
   "metadata": {
    "collapsed": false
   },
   "outputs": [
    {
     "name": "stdout",
     "output_type": "stream",
     "text": [
      "[1] 1\n",
      "[1] \": Setting seed...\"\n",
      "[1] \"Partitioning data...\"\n",
      "[1] \"Identify DE genes...\"\n"
     ]
    },
    {
     "name": "stderr",
     "output_type": "stream",
     "text": [
      "estimating size factors\n",
      "using 'avgTxLength' from assays(dds), correcting for library size\n",
      "estimating dispersions\n",
      "gene-wise dispersion estimates\n",
      "mean-dispersion relationship\n",
      "final dispersion estimates\n",
      "fitting model and testing\n",
      "using 'ashr' for LFC shrinkage. If used in published research, please cite:\n",
      "    Stephens, M. (2016) False discovery rates: a new deal. Biostatistics, 18:2.\n",
      "    https://doi.org/10.1093/biostatistics/kxw041\n"
     ]
    },
    {
     "name": "stdout",
     "output_type": "stream",
     "text": [
      "[1] \"Calculating expression sig...\"\n",
      "[1] \"Fit elastic net...\"\n"
     ]
    },
    {
     "name": "stderr",
     "output_type": "stream",
     "text": [
      "Warning message in train.default(x, y, weights = w, ...):\n",
      "“The metric \"Accuracy\" was not in the result set. ROC will be used instead.”"
     ]
    },
    {
     "name": "stdout",
     "output_type": "stream",
     "text": [
      "[1] \"Get coefficients...\"\n"
     ]
    },
    {
     "name": "stderr",
     "output_type": "stream",
     "text": [
      "Warning message in perf_list[i] <- performance_metrics(actual = test.data2$HRDeficient, :\n",
      "“number of items to replace is not a multiple of replacement length”"
     ]
    }
   ],
   "source": [
    "df<-numeric()\n",
    "perf_list<-list(50)\n",
    "\n",
    "performance_metrics = function(actual, predicted) {\n",
    "  acc<-sum(actual == predicted)/length(actual)\n",
    "  TP<-  sum(actual=='HRD'& predicted=='HRD')\n",
    "  TN<-  sum(actual=='HRP'& predicted=='HRP')\n",
    "  FP<-  sum(actual=='HRD'& predicted=='HRP')\n",
    "  FN<-  sum(actual=='HRP'& predicted=='HRD')  \n",
    "  sensitivity<-TP/(TP+FN)  \n",
    "  specificity<-TN/(TN+FP)\n",
    "  auc<-  colAUC(as.numeric(predict(model, test.data2)), test.data2$HRDeficient)\n",
    "  r<-list(Accuracy=acc,Sensitivity=sensitivity,Specificity=specificity,AUC=auc[1])\n",
    "    return(r)\n",
    "}\n",
    "\n",
    "i<-0\n",
    "while (length(df) <1500 | length(df)==0 ){\n",
    "    i<-i+1\n",
    "\n",
    "    print(i)\n",
    "    print(\": Setting seed...\")\n",
    "    set.seed(489+i)\n",
    "\n",
    "    print(\"Partitioning data...\")\n",
    "    train = sample(1:nrow(sampleInfo_analysis), nrow(sampleInfo_analysis)*0.8)\n",
    "    train.data<-sampleInfo_analysis[train,]\n",
    "    test.data<-sampleInfo_analysis[-train,]\n",
    "\n",
    "    if (dim(table(train.data$BRCA1_LOH))==1){\n",
    "        next\n",
    "    }\n",
    "    \n",
    "    print(\"Identify DE genes...\")\n",
    "    HRD<-intersect(which(coldata$condition!=\"Excluded\"),which(coldata$Sample %in% rownames(train.data)))\n",
    "    ddsHRD<-dds[,HRD]\n",
    "    colData(ddsHRD)$condition<-droplevels(colData(ddsHRD)$condition)\n",
    "    ddsHRD <- DESeq(ddsHRD)\n",
    "    res<-results(ddsHRD)\n",
    "    \n",
    "    biom_res<-read.table(\"All_genes_quant_type.txt\",sep=\"\\t\",header=T)\n",
    "    rownames(biom_res)<-as.character(biom_res[,1])\n",
    "    protein_coding_genes<-as.character(biom_res[biom_res$Gene.type==\"protein_coding\",1])\n",
    "    \n",
    "    resLFC <- lfcShrink(ddsHRD[protein_coding_genes,], coef=\"condition_HRProf_vs_HRDef\",type=\"ashr\")\n",
    "    resLFC$new.padj<-p.adjust(resLFC$pvalue, method=\"BH\",n=length(protein_coding_genes))\n",
    "    res001<- resLFC[is.na(resLFC$padj)==FALSE & resLFC$new.padj<0.05 & abs(resLFC$log2FoldChange)>1,]\n",
    "    res001_ord<-res001[order(res001$new.padj),]\n",
    "    DE_genes_ensembl<-biom_res[rownames(res001_ord),1]\n",
    "\n",
    "\n",
    "    print(\"Calculating expression sig...\")\n",
    "    DEhrd_vsd<-assay(vsd)[as.character(DE_genes_ensembl),]\n",
    "\n",
    "    HRDcomp_train<-which(coldata$Sample %in% rownames(train.data) )\n",
    "    p.train<-prcomp(t(DEhrd_vsd[,HRDcomp_train]))\n",
    "\n",
    "    HRDcomp_test<-which(coldata$Sample %in% rownames(test.data) )\n",
    "    p.test<-prcomp(t(DEhrd_vsd[,HRDcomp_test]))\n",
    "\n",
    "    de_df_tr<-data.frame(Sample=coldata[HRDcomp_train,\"Sample\"],HRD_DE_sig=p.train$x[,\"PC1\"])\n",
    "    de_df_test<-data.frame(Sample=coldata[HRDcomp_test,\"Sample\"],HRD_DE_sig=p.test$x[,\"PC1\"])\n",
    "\n",
    "    train.data$Sample<-rownames(train.data)\n",
    "    train.data2<-merge(train.data,de_df_tr,by=\"Sample\")\n",
    "    train.data2<-train.data2[,setdiff(colnames(train.data2),\"Sample\")]\n",
    "\n",
    "    test.data$Sample<-rownames(test.data)\n",
    "    test.data2<-merge(test.data,de_df_test,by=\"Sample\")\n",
    "    test.data2<-test.data2[,setdiff(colnames(test.data2),\"Sample\")]\n",
    "\n",
    "    train.data2$HRD_DE_sig<- -train.data2$HRD_DE_sig\n",
    "    test.data2$HRD_DE_sig<- -test.data2$HRD_DE_sig   \n",
    "\n",
    "    print(\"Fit elastic net...\")\n",
    "    model <- train(\n",
    "            HRDeficient ~., data = train.data2, method = \"glmnet\",\n",
    "            trControl = trainControl(\"cv\", number = 10,\n",
    "                           summaryFunction = twoClassSummary,\n",
    "                           classProbs = TRUE),\n",
    "            standardize=TRUE,                          \n",
    "            tuneLength = 10\n",
    "    )\n",
    "\n",
    "    print(\"Get coefficients...\")\n",
    "    res<-coef(model$finalModel, model$bestTune$lambda)\n",
    "\n",
    "    df<-cbind(df,as.numeric(res))\n",
    "    \n",
    "    perf_list[i]<-performance_metrics(actual = test.data2$HRDeficient,\n",
    "         predicted = predict(model, newdata = test.data2))\n",
    "    \n",
    "}\n",
    "\n",
    "save(df,file=\"df_1_50_loh_full.RData\")\n",
    "save(perf_list,file=\"df_1_50_perf_loh_full.RData\")"
   ]
  }
 ],
 "metadata": {
  "kernelspec": {
   "display_name": "R",
   "language": "R",
   "name": "ir"
  },
  "language_info": {
   "codemirror_mode": "r",
   "file_extension": ".r",
   "mimetype": "text/x-r-source",
   "name": "R",
   "pygments_lexer": "r",
   "version": "3.6.0"
  },
  "toc": {
   "nav_menu": {},
   "number_sections": false,
   "sideBar": true,
   "skip_h1_title": false,
   "toc_cell": false,
   "toc_position": {},
   "toc_section_display": "block",
   "toc_window_display": true
  }
 },
 "nbformat": 4,
 "nbformat_minor": 2
}
