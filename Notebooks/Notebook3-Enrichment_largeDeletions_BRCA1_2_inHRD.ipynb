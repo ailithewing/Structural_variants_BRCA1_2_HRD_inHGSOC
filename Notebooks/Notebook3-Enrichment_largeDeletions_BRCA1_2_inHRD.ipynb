{
 "cells": [
  {
   "cell_type": "markdown",
   "metadata": {},
   "source": [
    "*Ewing et al (2020) Structural variants at the BRCA1/2 loci are a common source of homologous repair deficiency in high grade serous ovarian carcinoma.*\n"
   ]
  },
  {
   "cell_type": "markdown",
   "metadata": {},
   "source": [
    "# Notebook 3 - Are BRCA1/2 enriched for large deletions in HRD samples? "
   ]
  },
  {
   "cell_type": "markdown",
   "metadata": {},
   "source": [
    "This notebook processes and plots the results of tests of enrichment using circularised permutation to assess whether BRCA1/2 are enriched for large deletions in HRD samples. Figures included in Supplementary Figure 2. "
   ]
  },
  {
   "cell_type": "markdown",
   "metadata": {},
   "source": [
    "## Tabulate deletions in HRD samples"
   ]
  },
  {
   "cell_type": "code",
   "execution_count": 2,
   "metadata": {
    "collapsed": true
   },
   "outputs": [],
   "source": [
    "all_del_hrd_samps<-read.table(\"~/Desktop/BRCA1_BRCA2_SVs_paper/Analysis/all_hrd_samples_dels_sorted.bed\",sep=\"\\t\")"
   ]
  },
  {
   "cell_type": "code",
   "execution_count": null,
   "metadata": {
    "collapsed": false
   },
   "outputs": [],
   "source": [
    "library(reshape)\n",
    "long.all_del_hrd_samps<-melt(all_del_hrd_samps,id.vars=\"V1\")\n",
    "long.all_del_hrd_samps<-long.all_del_hrd_samps[,c(1,3)]\n",
    "\n",
    "chr_lengths<-read.table(\"hg38_chromosome_lengths.txt\",sep=\"\\t\")\n",
    "colnames(chr_lengths)[2]<-\"value\"\n",
    "long.all_del_hrd_samps<-rbind(long.all_del_hrd_samps,chr_lengths)\n",
    "\n",
    "long.all_del_hrd_samps<-long.all_del_hrd_samps[order(long.all_del_hrd_samps$V1,long.all_del_hrd_samps$value),]"
   ]
  },
  {
   "cell_type": "markdown",
   "metadata": {},
   "source": [
    "## Calculate mean number of breakpoints from large deletions throughout the genome."
   ]
  },
  {
   "cell_type": "code",
   "execution_count": null,
   "metadata": {
    "collapsed": false
   },
   "outputs": [],
   "source": [
    "ordchrs<-c(\"chr1\",\"chr2\",\"chr3\",\"chr4\",\"chr5\",\"chr6\",\"chr7\",\"chr8\",\"chr9\",\"chr10\",\"chr11\",\"chr12\",\n",
    "          \"chr13\",\"chr14\",\"chr15\",\"chr16\",\"chr17\",\"chr18\",\"chr19\",\"chr20\",\"chr21\",\"chr22\",\"chrX\")\n",
    "long.all_del_hrd_samps$V1<-factor(long.all_del_hrd_samps$V1,levels=ordchrs)\n",
    "\n",
    "chr_counts<-table(long.all_del_hrd_samps$V1)-1\n",
    "chr_means<-(chr_counts/(chr_lengths[,2]))*5000000\n",
    "chr_means\n",
    "\n",
    "vline.data <- data.frame(V1 = c(\"chr13\",\"chr13\",\"chr17\",\"chr17\"),v2=c(32314862,32400266,43044295,43170245))\n",
    "hline.data <- data.frame(V1 = levels(long.all_del_hrd_samps$V1),v2=as.numeric(chr_means))"
   ]
  },
  {
   "cell_type": "markdown",
   "metadata": {},
   "source": [
    "## Make supplementary figure 2a"
   ]
  },
  {
   "cell_type": "code",
   "execution_count": null,
   "metadata": {
    "collapsed": true
   },
   "outputs": [],
   "source": [
    "options(repr.plot.width=8,repr.plot.height=6)\n",
    "\n",
    "ggplot(long.all_del_hrd_samps,aes(x=value))+\n",
    "geom_histogram(binwidth=5000000,alpha=0.5)+\n",
    "facet_wrap(~V1,scales=\"free_x\")+\n",
    "ylab(\"Large deletion breakpoint density\")+xlab(\"Genomic position\")+\n",
    " geom_vline(aes(xintercept = v2), vline.data,col=\"blue\")+\n",
    "geom_hline(aes(yintercept = v2), hline.data,col=\"black\",lty=\"dashed\")+\n",
    "theme_bw()+\n",
    "theme(axis.text.x = element_blank())"
   ]
  }
 ],
 "metadata": {
  "kernelspec": {
   "display_name": "R",
   "language": "R",
   "name": "ir"
  },
  "language_info": {
   "codemirror_mode": "r",
   "file_extension": ".r",
   "mimetype": "text/x-r-source",
   "name": "R",
   "pygments_lexer": "r",
   "version": "3.6.0"
  },
  "toc": {
   "nav_menu": {},
   "number_sections": false,
   "sideBar": true,
   "skip_h1_title": false,
   "toc_cell": false,
   "toc_position": {},
   "toc_section_display": "block",
   "toc_window_display": true
  }
 },
 "nbformat": 4,
 "nbformat_minor": 2
}
