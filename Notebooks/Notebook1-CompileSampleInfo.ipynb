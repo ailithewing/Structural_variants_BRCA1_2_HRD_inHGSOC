{
 "cells": [
  {
   "cell_type": "markdown",
   "metadata": {},
   "source": [
    "*Ewing et al (2020) Structural variants at the BRCA1/2 loci are a common source of homologous repair deficiency in high grade serous ovarian carcinoma.*"
   ]
  },
  {
   "cell_type": "markdown",
   "metadata": {},
   "source": [
    "# Notebook 1 - Compile sample information"
   ]
  },
  {
   "cell_type": "markdown",
   "metadata": {},
   "source": [
    "This notebook contains the code to bring together multiple sources of information into a couple of data frames for use in further downstream analyses."
   ]
  },
  {
   "cell_type": "markdown",
   "metadata": {},
   "source": [
    "## RNAseq quantifications"
   ]
  },
  {
   "cell_type": "markdown",
   "metadata": {},
   "source": [
    "Load libraries for importing transcript level counts and running differential expression analysis in order to transform counts adjusting for cohort and tumour cellularity."
   ]
  },
  {
   "cell_type": "code",
   "execution_count": 11,
   "metadata": {
    "collapsed": false
   },
   "outputs": [],
   "source": [
    "require(tximport)\n",
    "require(DESeq2)"
   ]
  },
  {
   "cell_type": "markdown",
   "metadata": {},
   "source": [
    "Load quantification files from salmon for three HGSOC cohorts."
   ]
  },
  {
   "cell_type": "code",
   "execution_count": 12,
   "metadata": {
    "collapsed": false
   },
   "outputs": [
    {
     "name": "stderr",
     "output_type": "stream",
     "text": [
      "reading in files with read_tsv\n",
      "1 2 3 4 5 6 7 8 9 10 11 12 13 14 15 16 17 18 19 20 21 22 23 24 25 26 27 28 29 30 31 32 33 34 35 36 37 38 39 40 41 42 43 44 45 46 47 48 49 50 51 52 53 54 55 56 57 58 59 60 61 62 63 64 65 66 67 68 69 70 71 72 73 74 75 76 77 78 79 80 81 82 83 84 85 86 87 88 89 90 91 92 93 94 95 96 97 98 99 100 101 102 103 104 105 106 107 108 109 110 111 112 113 114 115 116 117 118 119 120 121 122 123 124 125 126 127 128 129 130 131 132 133 134 135 136 137 138 139 140 141 142 143 144 145 146 147 148 149 150 151 152 \n",
      "summarizing abundance\n",
      "summarizing counts\n",
      "summarizing length\n"
     ]
    }
   ],
   "source": [
    "#Load all salmon quantification files for three cohorts\n",
    "files_scot<-dir(\"../../alignments/SHGSOC/salmon\",pattern=\"quant.sf\",recursive = T,full.names = TRUE)\n",
    "files_scot_additional<-dir(\"../../bcbio/SHGSOC/2019-2-26\",pattern=\"quant.sf\",recursive = T,full.names = TRUE)\n",
    "files_aocs<-dir(\"../AOCS/salmon\",pattern=\"quant.sf\",recursive = T,full.names = TRUE)\n",
    "files_tcga<-dir(\"../../bcbio/TCGA_US_OV/TCGAvirtualproj\",pattern=\"quant.sf\",recursive = T,full.names = TRUE)\n",
    "files<-c(files_scot,files_scot_additional,files_aocs,files_tcga)\n",
    "\n",
    "#Remove replicates and sample exclusions \n",
    "rna_reps_to_exclude<-read.table(\"RNAseq_replicates_forexclusion.txt\",sep=\"\\t\")\n",
    "rna_reps_to_exclude<-as.character(rna_reps_to_exclude[,1])\n",
    "\n",
    "new_files_orig<-setdiff(files,rna_reps_to_exclude)\n",
    "tx2knownGene <- read.csv(\"tx2gene.csv\",header = F)\n",
    "\n",
    "#Rename files with consistent sample IDs\n",
    "names(new_files_orig)[1:37]<-do.call(\"cbind\",strsplit(new_files_orig[1:37],split = \"[/.]\"))[10,]\n",
    "names(new_files_orig)[38:42]<-do.call(\"cbind\",strsplit(new_files_orig[38:42],split = \"[/.]\"))[10,]\n",
    "names(new_files_orig)[43:122]<-do.call(\"cbind\",strsplit(new_files_orig[43:122],split = \"[/.]\"))[6,]\n",
    "names(new_files_orig)[123:152]<-do.call(\"cbind\",strsplit(new_files_orig[123:152],split = \"[/.]\"))[10,]\n",
    "\n",
    "txi.salmon <- tximport(new_files_orig, type = \"salmon\", tx2gene = tx2knownGene)"
   ]
  },
  {
   "cell_type": "markdown",
   "metadata": {},
   "source": [
    "Add in tumour cellularity information and filter to samples with usable WGS."
   ]
  },
  {
   "cell_type": "code",
   "execution_count": 16,
   "metadata": {
    "collapsed": false
   },
   "outputs": [
    {
     "name": "stderr",
     "output_type": "stream",
     "text": [
      "reading in files with read_tsv\n",
      "1 2 3 4 5 6 7 8 9 10 11 12 13 14 15 16 17 18 19 20 21 22 23 24 25 26 27 28 29 30 31 32 33 34 35 36 37 38 39 40 41 42 43 44 45 46 47 48 49 50 51 52 53 54 55 56 57 58 59 60 61 62 63 64 65 66 67 68 69 70 71 72 73 74 75 76 77 78 79 80 81 82 83 84 85 86 87 88 89 90 91 92 93 94 95 96 97 98 99 100 101 102 103 104 105 106 107 108 109 110 111 112 113 114 115 116 117 118 119 120 121 122 123 124 125 126 127 128 129 130 131 132 133 134 135 136 137 138 139 140 141 142 143 144 145 146 147 148 149 150 \n",
      "summarizing abundance\n",
      "summarizing counts\n",
      "summarizing length\n"
     ]
    }
   ],
   "source": [
    "sample<-read.table(\"<pathtosampleandcellularitydf>\",sep=\"\\t\",header=T,stringsAsFactors=F)\n",
    "sample_expr<-sample[,c(\"Sample\",\"Purity\")]\n",
    "\n",
    "rna_sampleids<-colnames(head(txi.salmon$counts))\n",
    "rna_short_sampleids<-rep(NA,length(rna_sampleids))\n",
    "rna_short_sampleids[1:42]<-substr(rna_sampleids[1:42],1,9)\n",
    "rna_short_sampleids[43:122]<-substr(rna_sampleids[43:122],1,8)\n",
    "rna_short_sampleids[123:152]<-substr(rna_sampleids[123:152],1,7)\n",
    "rna<-data.frame(RNA_sample=rna_sampleids,Sample=rna_short_sampleids)\n",
    "rna<-rna[as.character(rna$Sample) %in% as.character(sample_expr$Sample),]\n",
    "\n",
    "new_files<-new_files_orig[as.character(rna$RNA_sample)]\n",
    "\n",
    "txi.salmon2 <- tximport(new_files, type = \"salmon\", tx2gene = tx2knownGene)"
   ]
  },
  {
   "cell_type": "markdown",
   "metadata": {},
   "source": [
    "Correct counts for cohort and cellularity"
   ]
  },
  {
   "cell_type": "code",
   "execution_count": 18,
   "metadata": {
    "collapsed": false
   },
   "outputs": [
    {
     "name": "stderr",
     "output_type": "stream",
     "text": [
      "Warning message in DESeqDataSet(se, design = design, ignoreRank):\n",
      "“some variables in design formula are characters, converting to factors”using counts and average transcript lengths from tximport\n"
     ]
    }
   ],
   "source": [
    "coldata<-merge(rna,sample_expr,by=\"Sample\",all.x=T)\n",
    "coldata$Cohort<-substr(as.character(coldata$Sample),1,2)\n",
    "\n",
    "rownames(coldata)<-as.character(coldata$RNA_sample)\n",
    "coldata<-coldata[as.character(rna$RNA_sample),]\n",
    "rownames(coldata)<-c(1:150)\n",
    "\n",
    "dds_correct <- DESeqDataSetFromTximport(txi.salmon2, \n",
    "                               colData = coldata,\n",
    "                                design=~as.factor(Cohort)+Purity)"
   ]
  },
  {
   "cell_type": "markdown",
   "metadata": {},
   "source": [
    "Filter to protein coding genes only and variance stabilising transform counts"
   ]
  },
  {
   "cell_type": "code",
   "execution_count": 52,
   "metadata": {
    "collapsed": false
   },
   "outputs": [
    {
     "name": "stderr",
     "output_type": "stream",
     "text": [
      "using pre-existing normalization factors\n",
      "estimating dispersions\n",
      "found already estimated dispersions, replacing these\n",
      "gene-wise dispersion estimates\n",
      "mean-dispersion relationship\n",
      "final dispersion estimates\n",
      "fitting model and testing\n"
     ]
    }
   ],
   "source": [
    "biom_res<-read.table(\"All_genes_quant_type.txt\",sep=\"\\t\",header=T)\n",
    "rownames(biom_res)<-as.character(biom_res[,1])\n",
    "protein_coding_genes<-as.character(biom_res[biom_res$Gene.type==\"protein_coding\",1])\n",
    "\n",
    "dds_correct <- DESeq(dds_correct)\n",
    "vsd <- vst(dds_correct , blind=FALSE)\n",
    "#write.table(rownames(assay(vsd)),file=\"All_genes_quant.txt\",sep=\"\\t\",col.names=F,row.names=F,quote=F)\n",
    "protein_coding_vsd<-assay(vsd)[protein_coding_genes,]"
   ]
  },
  {
   "cell_type": "code",
   "execution_count": 53,
   "metadata": {
    "collapsed": false
   },
   "outputs": [],
   "source": [
    "colnames(protein_coding_vsd)<-coldata$Sample\n"
   ]
  },
  {
   "cell_type": "markdown",
   "metadata": {},
   "source": [
    "Get VST expression counts for HR genes"
   ]
  },
  {
   "cell_type": "code",
   "execution_count": 60,
   "metadata": {
    "collapsed": false
   },
   "outputs": [
    {
     "data": {
      "text/html": [
       "<ol class=list-inline>\n",
       "\t<li>150</li>\n",
       "\t<li>13</li>\n",
       "</ol>\n"
      ],
      "text/latex": [
       "\\begin{enumerate*}\n",
       "\\item 150\n",
       "\\item 13\n",
       "\\end{enumerate*}\n"
      ],
      "text/markdown": [
       "1. 150\n",
       "2. 13\n",
       "\n",
       "\n"
      ],
      "text/plain": [
       "[1] 150  13"
      ]
     },
     "metadata": {},
     "output_type": "display_data"
    }
   ],
   "source": [
    "rnaseq_brca1<-protein_coding_vsd['ENSG00000012048',]\n",
    "rnaseq_brca2<-protein_coding_vsd['ENSG00000139618',]\n",
    "\n",
    "rnaseq_bard1<-protein_coding_vsd['ENSG00000138376',]\n",
    "rnaseq_rad50<-protein_coding_vsd['ENSG00000113522',]\n",
    "rnaseq_nbn<-protein_coding_vsd['ENSG00000104320',]\n",
    "rnaseq_mre11<-protein_coding_vsd['ENSG00000020922',]\n",
    "rnaseq_rad51b<-protein_coding_vsd['ENSG00000182185',]\n",
    "rnaseq_rad51<-protein_coding_vsd['ENSG00000051180',]\n",
    "rnaseq_palb2<-protein_coding_vsd['ENSG00000083093',]\n",
    "rnaseq_rad51d<-protein_coding_vsd['ENSG00000185379',]\n",
    "rnaseq_rad51c<-protein_coding_vsd['ENSG00000108384',]\n",
    "rnaseq_brip1<-protein_coding_vsd['ENSG00000136492',]\n",
    "\n",
    "rnaseq_brca<-rbind(rnaseq_brca1,rnaseq_brca2,rnaseq_bard1,rnaseq_rad50,rnaseq_nbn,\n",
    "                        rnaseq_mre11,rnaseq_rad51b,rnaseq_rad51,rnaseq_palb2,rnaseq_rad51d,\n",
    "                         rnaseq_rad51c,rnaseq_brip1)\n",
    "rnaseq_brca<-t(rnaseq_brca)\n",
    "Sample<-rownames(rnaseq_brca)\n",
    "all_rnaseq_brca<-data.frame(Sample=Sample,rnaseq_brca)\n",
    "colnames(all_rnaseq_brca)<-c(\"Sample\",\"BRCA1_VST\",\"BRCA2_VST\",\"BARD1_VST\",\"RAD50_VST\",\"NBN_VST\",\"MRE11_VST\",\"RAD51B_VST\",\n",
    "                               \"RAD51_VST\",\"PALB2_VST\",\"RAD51D_VST\",\"RAD51C_VST\",\"BRIP1_VST\")\n",
    "\n",
    "dim(all_rnaseq_brca)"
   ]
  },
  {
   "cell_type": "markdown",
   "metadata": {},
   "source": [
    "Write VST expression counts for HR genes to file."
   ]
  },
  {
   "cell_type": "code",
   "execution_count": 62,
   "metadata": {
    "collapsed": false
   },
   "outputs": [],
   "source": [
    "all_rnaseq_brca[,-1]<-apply(all_rnaseq_brca[,-1],2,as.numeric)\n",
    "\n",
    "write.table(all_rnaseq_brca,file=\"Manuscript/Intermediate_data/RNAseq_TPMs_VST.txt\",sep=\"\\t\",row.names=F,quote=F)"
   ]
  },
  {
   "cell_type": "markdown",
   "metadata": {},
   "source": [
    "## Whole genome doubling "
   ]
  },
  {
   "cell_type": "code",
   "execution_count": 63,
   "metadata": {
    "collapsed": true
   },
   "outputs": [],
   "source": [
    "facets_score<-read.table(\"<path to facets output>\",sep=\"\\t\",header=T,stringsAsFactors=F)\n",
    "colnames(facets_score)<-c(\"Sample\",\"Facets_WGD_score\")"
   ]
  },
  {
   "cell_type": "markdown",
   "metadata": {},
   "source": [
    "## Rearrangement signatures and HRDetect prediction"
   ]
  },
  {
   "cell_type": "code",
   "execution_count": 64,
   "metadata": {
    "collapsed": false
   },
   "outputs": [],
   "source": [
    "hrdetect<-read.table(\"Tables/HGSOC_HRDetect_results.txt\",sep=\"\\t\",header=T,stringsAsFactors=F)\n",
    "hrdetect_score<-hrdetect[,c(1,4,5,14)]\n",
    "colnames(hrdetect_score)<-c(\"Sample\",\"ReSig_3\",\"ReSig_5\",\"HRDetect\")"
   ]
  },
  {
   "cell_type": "markdown",
   "metadata": {},
   "source": [
    "## Tumour cellularity"
   ]
  },
  {
   "cell_type": "code",
   "execution_count": 65,
   "metadata": {
    "collapsed": true
   },
   "outputs": [],
   "source": [
    "purity<-read.table(\"<Path_to_CLImAT_tumour_purity>\",sep=\"\\t\",header=T,stringsAsFactors=F)"
   ]
  },
  {
   "cell_type": "markdown",
   "metadata": {},
   "source": [
    "## BRCA1/2 Loss of heterozygosity "
   ]
  },
  {
   "cell_type": "code",
   "execution_count": 1,
   "metadata": {
    "collapsed": true
   },
   "outputs": [],
   "source": [
    "brca1_loh<-read.table(\"<pathtobrca1LOH>\",sep=\"\\t\",stringsAsFactors=F)\n",
    "colnames(brca1_loh)<-c(\"BAF\",\"Sample\")\n",
    "brca1_loh$Sample<-as.character(brca1_loh$Sample)\n",
    "brca1_loh$BRCA1_LOH<-ifelse(brca1_loh$BAF==1,1,0)\n",
    "brca1_loh<-brca1_loh[,2:3]\n",
    "brca1_loh$Sample<-gsub(\"T\",\"\",brca1_loh$Sample)"
   ]
  },
  {
   "cell_type": "code",
   "execution_count": 2,
   "metadata": {
    "collapsed": true
   },
   "outputs": [],
   "source": [
    "brca2_loh<-read.table(\"<pathtobrca2LOH>\",sep=\"\\t\",stringsAsFactors=F)\n",
    "colnames(brca2_loh)<-c(\"BAF\",\"Sample\")\n",
    "brca2_loh$BRCA2_LOH<-ifelse(brca2_loh$BAF==1,1,0)\n",
    "brca2_loh<-brca2_loh[,2:3]\n",
    "\n",
    "brca2_loh$Sample<-gsub(\"T\",\"\",brca1_loh$Sample)"
   ]
  },
  {
   "cell_type": "markdown",
   "metadata": {},
   "source": [
    "Write BRCA1/2 LOH status to file"
   ]
  },
  {
   "cell_type": "code",
   "execution_count": null,
   "metadata": {
    "collapsed": false
   },
   "outputs": [],
   "source": [
    "loh<-merge(brca1_loh,brca2_loh,by=\"Sample\")\n",
    "write.table(loh,\"~/Desktop/BRCA1_BRCA2_SVs_paper/Analysis/LOH_status.txt\",sep=\"\\t\",quote=F,row.names=F)"
   ]
  },
  {
   "cell_type": "markdown",
   "metadata": {},
   "source": [
    "## Non-BRCA HR gene mutational status"
   ]
  },
  {
   "cell_type": "markdown",
   "metadata": {},
   "source": [
    "Add in samples that have deleterious SNVs/indels at non-BRCA genes as defined by KEGG"
   ]
  },
  {
   "cell_type": "code",
   "execution_count": 68,
   "metadata": {
    "collapsed": true
   },
   "outputs": [],
   "source": [
    "aocs_nonBRCAHRgerm<-c(\"AOCS_063\",\"AOCS_065\",\"AOCS_079\",\"AOCS_097\",\"AOCS_106\",\"AOCS_108\",\"AOCS_125\",\"AOCS_143\",\n",
    "                      \"AOCS_158\",\"AOCS_163\",\"AOCS_164\",\"AOCS_168\",\"AOCS_170\")\n",
    "\n",
    "shgsoc_nonBRCAHRgerm<-c(\"SHGSOC027\",\"SHGSOC034\",\"SHGSOC037\",\"SHGSOC043\",\"SHGSOC045\",\"SHGSOC054\",\"SHGSOC065\",\"SHGSOC076\",\"SHGSOC078\",\n",
    "                        \"SHGSOC082\",\"SHGSOC084\",\"SHGSOC088\",\"SHGSOC099\",\"SHGSOC101\",\"SHGSOC102\")\n",
    "\n",
    "tcga_nonBRCAHRgerm<-c(\"DO28004\",\"DO28093\",\"DO28412\",\"DO28763\",\"DO29146\",\"DO30060\",\"DO31551\")\n",
    "\n",
    "\n",
    "aocs_nonBRCAHRsom<-c(\"AOCS_111\",\"AOCS_131\")\n",
    "shgsoc_nonBRCAHRsom<-c(\"SHGSOC015\",\"SHGSOC031\",\"SHGSOC037\",\"SHGSOC042\",\"SHGSOC044\")\n",
    "\n",
    "nonHR<-data.frame(Sample=brca2_loh$Sample, non_BRCA_HR_Germline_SNV=rep(0,210),non_BRCA_HR_Somatic_SNV=rep(0,210))\n",
    "rownames(nonHR)<-as.character(nonHR$Sample)\n",
    "nonHR[unique(c(aocs_nonBRCAHRgerm,shgsoc_nonBRCAHRgerm,tcga_nonBRCAHRgerm)),\"non_BRCA_HR_Germline_SNV\"]<-1\n",
    "nonHR[unique(c(aocs_nonBRCAHRsom,shgsoc_nonBRCAHRsom)),\"non_BRCA_HR_Somatic_SNV\"]<-1"
   ]
  },
  {
   "cell_type": "markdown",
   "metadata": {},
   "source": [
    "## Mutational load"
   ]
  },
  {
   "cell_type": "markdown",
   "metadata": {},
   "source": [
    "Incorporate mutational loads of SNVs/indels, large CNVs (>1Mb) and structural variants called by Manta."
   ]
  },
  {
   "cell_type": "code",
   "execution_count": null,
   "metadata": {
    "collapsed": false
   },
   "outputs": [],
   "source": [
    "mut_load<-read.table(\"Analysis/HGSOC_SNV_mutational_load.txt\",sep=\"\\t\")\n",
    "colnames(mut_load)<-c(\"Sample\",\"Mutational_load\")\n",
    "rownames(mut_load)<-as.character(mut_load[,1])\n",
    "\n",
    "SV_load<-read.table(\"Analysis/HGSOC_SV_mutational_load.txt\",sep=\"\\t\")\n",
    "colnames(SV_load)<-c(\"Sample\",\"SV_load\")\n",
    "rownames(SV_load)<-as.character(SV_load[,1])\n",
    "\n",
    "CNV_load<-read.table(\"Analysis/LargeCNV_load_cnvkit-climat_filt_overlap.txt\")\n",
    "CNV_load<-CNV_load[,c(2,1)]\n",
    "colnames(CNV_load)<-c(\"Sample\",\"CNV_load\")\n",
    "rownames(CNV_load)<-as.character(CNV_load[,1])"
   ]
  },
  {
   "cell_type": "markdown",
   "metadata": {},
   "source": [
    "## BRCA1/2 promoter methylation "
   ]
  },
  {
   "cell_type": "code",
   "execution_count": null,
   "metadata": {
    "collapsed": false
   },
   "outputs": [],
   "source": [
    "brca1_pro_meth_aocs<-read.table(\"../methylation/AOCS/AOCS_samples_BRCA1_promoter_methylation.txt\",sep=\"\\t\")\n",
    "brca1_pro_meth_aocs<-as.character(brca1_pro_meth_aocs[,1])\n",
    "\n",
    "brca1_pro_meth_tcga<-read.table(\"../methylation/TCGA/TCGA_samples_BRCA1_promoter_methylation.txt\",sep=\"\\t\")\n",
    "brca1_pro_meth_tcga<-as.character(brca1_pro_meth_tcga[,1])\n",
    "brca1_pro_meth_samples<-c(brca1_pro_meth_aocs,brca1_pro_meth_tcga)\n",
    "\n",
    "brca1_pro_meth<-data.frame(Sample=mut_load$Sample)\n",
    "rownames(brca1_pro_meth)<-as.character(brca1_pro_meth$Sample)\n",
    "brca1_pro_meth$BRCA1_pro_meth<-0\n",
    "brca1_pro_meth[brca1_pro_meth_samples,\"BRCA1_pro_meth\"]<-1\n",
    "table(brca1_pro_meth$BRCA1_pro_meth)"
   ]
  },
  {
   "cell_type": "markdown",
   "metadata": {},
   "source": [
    "## BRCA1 mutational status`"
   ]
  },
  {
   "cell_type": "markdown",
   "metadata": {},
   "source": [
    "*SNVs*"
   ]
  },
  {
   "cell_type": "code",
   "execution_count": 74,
   "metadata": {
    "collapsed": true
   },
   "outputs": [],
   "source": [
    "aocsBRCA1germ<-c(\"AOCS_034\",\"AOCS_057\",\"AOCS_058\",\"AOCS_065\",\"AOCS_088\",\"AOCS_095\",\"AOCS_105\",\"AOCS_108\",\"AOCS_131\",\"AOCS_139\",\"AOCS_143\",\"AOCS_145\",\"AOCS_146\")\n",
    "shgsocBRCA1germ<-c(\"SHGSOC001\",\"SHGSOC007\",\"SHGSOC022\",\"SHGSOC056\",\"SHGSOC060\",\"SHGSOC094\")\n",
    "tcgaBRCA1germ<-c(\"DO28089\",\"DO30220\",\"DO30340\",\"DO32420\")\n",
    "\n",
    "aocsBRCA1som<-c(\"AOCS_079\",\"AOCS_086\",\"AOCS_130\",\"AOCS_152\",\"AOCS_171\")\n",
    "shgsocBRCA1som<-c(\"SHGSOC011\",\"SHGSOC031\",\"SHGSOC072\")\n",
    "tcgaBRCA1som<-c(\"DO28521\",\"DO32391\")"
   ]
  },
  {
   "cell_type": "markdown",
   "metadata": {},
   "source": [
    "*SVs*"
   ]
  },
  {
   "cell_type": "code",
   "execution_count": null,
   "metadata": {
    "collapsed": false
   },
   "outputs": [],
   "source": [
    "highconf<-read.csv(\"<pathtohighconfSVs>\",stringsAsFactors=F)\n",
    "co<-substr(highconf$Sample,1,2)\n",
    "highconf$Cohort<-sapply(co,function(x) switch(x,\"SH\"=\"SHGSOC\",\"DO\"=\"TCGA\",\"AO\"=\"AOCS\"))"
   ]
  },
  {
   "cell_type": "markdown",
   "metadata": {},
   "source": [
    "Classifying high-confidence AOCS SVs."
   ]
  },
  {
   "cell_type": "code",
   "execution_count": null,
   "metadata": {
    "collapsed": true
   },
   "outputs": [],
   "source": [
    "aocs_brca_svs<-highconf[highconf$Cohort==\"AOCS\",]\n",
    "    \n",
    "aocs_brca_svs$BRCA_SV_category<-NA\n",
    "aocs_brca_svs[aocs_brca_svs$BRCA_mutation_category==\"Deletion\",\"BRCA_SV_category\"]<-\"Deletion overlapping exon (LOF)\"\n",
    "aocs_brca_svs[aocs_brca_svs$BRCA_mutation_category==\"Duplication\",\"BRCA_SV_category\"]<-\"Duplication spanning gene (COPY_GAIN)\"\n",
    "aocs_brca_svs[aocs_brca_svs$BRCA_mutation_category==\"Inversion\",\"BRCA_SV_category\"]<-\"Inversion spanning gene (INV_SPAN)\"\n",
    "aocs_brca_svs[aocs_brca_svs$BRCA_mutation_category==\"Complex_incl_del\" ,\"BRCA_SV_category\"]<-\"Complex combination of SV intervals including 1+ LOF (CPX: LOF)\"\n",
    "aocs_brca_svs[aocs_brca_svs$BRCA_mutation_category==\"Complex_no_del\",\"BRCA_SV_category\"]<-\"Complex combination of SVs without LOF\""
   ]
  },
  {
   "cell_type": "markdown",
   "metadata": {},
   "source": [
    "Classifying high-confidence SHGSOC SVs"
   ]
  },
  {
   "cell_type": "code",
   "execution_count": null,
   "metadata": {
    "collapsed": false
   },
   "outputs": [],
   "source": [
    "shgsoc_brca_svs<-highconf[highconf$Cohort==\"SHGSOC\",]\n",
    "\n",
    "shgsoc_brca_svs$BRCA_SV_category<-NA\n",
    "shgsoc_brca_svs[shgsoc_brca_svs$BRCA_mutation_category==\"Deletion\",\"BRCA_SV_category\"]<-\"Deletion overlapping exon (LOF)\"\n",
    "shgsoc_brca_svs[shgsoc_brca_svs$BRCA_mutation_category==\"Duplication\",\"BRCA_SV_category\"]<-\"Duplication spanning gene (COPY_GAIN)\"\n",
    "shgsoc_brca_svs[shgsoc_brca_svs$BRCA_mutation_category==\"Inversion\",\"BRCA_SV_category\"]<-\"Inversion spanning gene (INV_SPAN)\"\n",
    "shgsoc_brca_svs[shgsoc_brca_svs$BRCA_mutation_category==\"NoLOF\" ,\"BRCA_SV_category\"]<-\"SV without LOF\"\n",
    "shgsoc_brca_svs[shgsoc_brca_svs$BRCA_mutation_category==\"Complex_no_del\",\"BRCA_SV_category\"]<-\"Complex combination of SVs without LOF\"\n"
   ]
  },
  {
   "cell_type": "markdown",
   "metadata": {},
   "source": [
    "Classifying high-confidence TCGA SVs"
   ]
  },
  {
   "cell_type": "code",
   "execution_count": null,
   "metadata": {
    "collapsed": false
   },
   "outputs": [],
   "source": [
    "tcga_brca_svs<-highconf[highconf$Cohort==\"TCGA\",]\n",
    "\n",
    "tcga_brca_svs$BRCA_SV_category<-NA\n",
    "tcga_brca_svs[tcga_brca_svs$BRCA_mutation_category==\"Deletion\",\"BRCA_SV_category\"]<-\"Deletion overlapping exon (LOF)\"\n",
    "tcga_brca_svs[tcga_brca_svs$BRCA_mutation_category==\"Duplication\",\"BRCA_SV_category\"]<-\"Duplication spanning gene (COPY_GAIN)\"\n",
    "tcga_brca_svs[tcga_brca_svs$BRCA_mutation_category==\"Inversion\",\"BRCA_SV_category\"]<-\"Inversion spanning gene (INV_SPAN)\"\n",
    "tcga_brca_svs[tcga_brca_svs$BRCA_mutation_category==\"Intragenic_duplication\" ,\"BRCA_SV_category\"]<-\"Intragenic exonic duplication\"\n",
    "tcga_brca_svs[tcga_brca_svs$BRCA_mutation_category==\"Complex_incl_del\",\"BRCA_SV_category\"]<-\"Complex combination of SV intervals including 1+ LOF (CPX: LOF)\"\n",
    "tcga_brca_svs[tcga_brca_svs$BRCA_mutation_category==\"Complex_no_del\",\"BRCA_SV_category\"]<-\"Complex combination of SVs without LOF\"\n"
   ]
  },
  {
   "cell_type": "markdown",
   "metadata": {},
   "source": [
    "Creating BRCA1/2 mutational status binary indicators."
   ]
  },
  {
   "cell_type": "code",
   "execution_count": 80,
   "metadata": {
    "collapsed": true
   },
   "outputs": [],
   "source": [
    "aocs_brca1<-data.frame(BRCA1_Germline_SNV=rep(0,80),BRCA1_Somatic_SNV=rep(0,80),BRCA1_LOF=rep(0,80),BRCA1_COPY_GAIN=rep(0,80),BRCA1_INV_SPAN=rep(0,80),BRCA1_CPX_LOF=rep(0,80),BRCA1_CPX_noLOF=rep(0,80),BRCA1_noLOF=rep(0,80),BRCA1_intgendup=rep(0,80))\n",
    "rownames(aocs_brca1)<-as.character(hrdetect_score[grep(\"AOCS\",hrdetect_score$Sample),\"Sample\"])\n",
    "\n",
    "aocs_brca1[aocsBRCA1germ,\"BRCA1_Germline_SNV\"]<-1\n",
    "aocs_brca1[aocsBRCA1som,\"BRCA1_Somatic_SNV\"]<-1\n",
    "brca1_lof_samples<-substr(unique(as.character(aocs_brca_svs[aocs_brca_svs$Gene ==\"BRCA1\" & aocs_brca_svs$BRCA_SV_category==\"Deletion overlapping exon (LOF)\",\"Sample\"])),1,8)\n",
    "aocs_brca1[brca1_lof_samples,\"BRCA1_LOF\"]<-1\n",
    "brca1_copygain_samples<-substr(unique(as.character(aocs_brca_svs[aocs_brca_svs$Gene ==\"BRCA1\" & aocs_brca_svs$BRCA_SV_category==\"Duplication spanning gene (COPY_GAIN)\",\"Sample\"])),1,8)\n",
    "aocs_brca1[brca1_copygain_samples,\"BRCA1_COPY_GAIN\"]<-1\n",
    "brca1_invspan_samples<-substr(unique(as.character(aocs_brca_svs[aocs_brca_svs$Gene ==\"BRCA1\" & aocs_brca_svs$BRCA_SV_category==\"Inversion spanning gene (INV_SPAN)\",\"Sample\"])),1,8)\n",
    "aocs_brca1[brca1_invspan_samples,\"BRCA1_INV_SPAN\"]<-1\n",
    "brca1_cpxlof_samples<-substr(unique(as.character(aocs_brca_svs[aocs_brca_svs$Gene ==\"BRCA1\" & aocs_brca_svs$BRCA_SV_category==\"Complex combination of SV intervals including 1+ LOF (CPX: LOF)\",\"Sample\"])),1,8)\n",
    "aocs_brca1[brca1_cpxlof_samples,\"BRCA1_CPX_LOF\"]<-1\n",
    "brca1_cpxnolof_samples<-substr(unique(as.character(aocs_brca_svs[aocs_brca_svs$Gene ==\"BRCA1\" & aocs_brca_svs$BRCA_SV_category==\"Complex combination of SVs without LOF\",\"Sample\"])),1,8)\n",
    "aocs_brca1[brca1_cpxnolof_samples,\"BRCA1_CPX_noLOF\"]<-1\n",
    "brca1_nolof_samples<-substr(unique(as.character(aocs_brca_svs[aocs_brca_svs$Gene ==\"BRCA1\" & aocs_brca_svs$BRCA_SV_category==\"SV without LOF\",\"Sample\"])),1,8)\n",
    "aocs_brca1[brca1_nolof_samples,\"BRCA1_noLOF\"]<-1\n",
    "brca1_intragenicdup_samples<-substr(unique(as.character(aocs_brca_svs[aocs_brca_svs$Gene ==\"BRCA1\" & aocs_brca_svs$BRCA_SV_category==\"Intragenic exonic duplication\",\"Sample\"])),1,8)\n",
    "aocs_brca1[brca1_intragenicdup_samples,\"BRCA1_intgendup\"]<-1"
   ]
  },
  {
   "cell_type": "code",
   "execution_count": 81,
   "metadata": {
    "collapsed": true
   },
   "outputs": [],
   "source": [
    "shgsoc_brca1<-data.frame(BRCA1_Germline_SNV=rep(0,85),BRCA1_Somatic_SNV=rep(0,85),BRCA1_LOF=rep(0,85),BRCA1_COPY_GAIN=rep(0,85),BRCA1_INV_SPAN=rep(0,85),BRCA1_CPX_LOF=rep(0,85),BRCA1_CPX_noLOF=rep(0,85),BRCA1_noLOF=rep(0,85),BRCA1_intgendup=rep(0,85))\n",
    "rownames(shgsoc_brca1)<-as.character(hrdetect_score[grep(\"SHGSOC\",hrdetect_score$Sample),\"Sample\"])\n",
    "\n",
    "shgsoc_brca1[shgsocBRCA1germ,\"BRCA1_Germline_SNV\"]<-1\n",
    "shgsoc_brca1[shgsocBRCA1som,\"BRCA1_Somatic_SNV\"]<-1\n",
    "brca1_lof_samples<-substr(unique(as.character(shgsoc_brca_svs[shgsoc_brca_svs$Gene ==\"BRCA1\" & shgsoc_brca_svs$BRCA_SV_category==\"Deletion overlapping exon (LOF)\",\"Sample\"])),1,9)\n",
    "shgsoc_brca1[brca1_lof_samples,\"BRCA1_LOF\"]<-1\n",
    "brca1_copygain_samples<-substr(unique(as.character(shgsoc_brca_svs[shgsoc_brca_svs$Gene ==\"BRCA1\" & shgsoc_brca_svs$BRCA_SV_category==\"Duplication spanning gene (COPY_GAIN)\",\"Sample\"])),1,9)\n",
    "shgsoc_brca1[brca1_copygain_samples,\"BRCA1_COPY_GAIN\"]<-1\n",
    "brca1_invspan_samples<-substr(unique(as.character(shgsoc_brca_svs[shgsoc_brca_svs$Gene ==\"BRCA1\" & shgsoc_brca_svs$BRCA_SV_category==\"Inversion spanning gene (INV_SPAN)\",\"Sample\"])),1,9)\n",
    "shgsoc_brca1[brca1_invspan_samples,\"BRCA1_INV_SPAN\"]<-1\n",
    "brca1_cpxlof_samples<-substr(unique(as.character(shgsoc_brca_svs[shgsoc_brca_svs$Gene ==\"BRCA1\" & shgsoc_brca_svs$BRCA_SV_category==\"Complex combination of SV intervals including 1+ LOF (CPX: LOF)\",\"Sample\"])),1,8)\n",
    "shgsoc_brca1[brca1_cpxlof_samples,\"BRCA1_CPX_LOF\"]<-1\n",
    "brca1_cpxnolof_samples<-substr(unique(as.character(shgsoc_brca_svs[shgsoc_brca_svs$Gene ==\"BRCA1\" & shgsoc_brca_svs$BRCA_SV_category==\"Complex combination of SVs without LOF\",\"Sample\"])),1,9)\n",
    "shgsoc_brca1[brca1_cpxnolof_samples,\"BRCA1_CPX_noLOF\"]<-1\n",
    "brca1_nolof_samples<-substr(unique(as.character(shgsoc_brca_svs[shgsoc_brca_svs$Gene ==\"BRCA1\" & shgsoc_brca_svs$BRCA_SV_category==\"SV without LOF\",\"Sample\"])),1,9)\n",
    "shgsoc_brca1[brca1_nolof_samples,\"BRCA1_noLOF\"]<-1\n",
    "brca1_intragenicdup_samples<-substr(unique(as.character(shgsoc_brca_svs[shgsoc_brca_svs$Gene ==\"BRCA1\" & shgsoc_brca_svs$BRCA_SV_category==\"Intragenic exonic duplication\",\"Sample\"])),1,9)\n",
    "shgsoc_brca1[brca1_intragenicdup_samples,\"BRCA1_intgendup\"]<-1\n"
   ]
  },
  {
   "cell_type": "code",
   "execution_count": 82,
   "metadata": {
    "collapsed": true
   },
   "outputs": [],
   "source": [
    "tcga_brca1<-data.frame(BRCA1_Germline_SNV=rep(0,45),BRCA1_Somatic_SNV=rep(0,45),BRCA1_LOF=rep(0,45),BRCA1_COPY_GAIN=rep(0,45),BRCA1_INV_SPAN=rep(0,45),BRCA1_CPX_LOF=rep(0,45),BRCA1_CPX_noLOF=rep(0,45),BRCA1_noLOF=rep(0,45),BRCA1_intgendup=rep(0,45))\n",
    "\n",
    "rownames(tcga_brca1)<-as.character(hrdetect_score[grep(\"DO\",hrdetect_score$Sample),\"Sample\"])\n",
    "\n",
    "tcga_brca1[tcgaBRCA1germ,\"BRCA1_Germline_SNV\"]<-1\n",
    "tcga_brca1[tcgaBRCA1som,\"BRCA1_Somatic_SNV\"]<-1\n",
    "\n",
    "BRCA1_lof_samples<-substr(unique(as.character(tcga_brca_svs[tcga_brca_svs$Gene ==\"BRCA1\" & tcga_brca_svs$BRCA_SV_category==\"Deletion overlapping exon (LOF)\",\"Sample\"])),1,7)\n",
    "tcga_brca1[BRCA1_lof_samples,\"BRCA1_LOF\"]<-1\n",
    "BRCA1_copygain_samples<-substr(unique(as.character(tcga_brca_svs[tcga_brca_svs$Gene ==\"BRCA1\" & tcga_brca_svs$BRCA_SV_category==\"Duplication spanning gene (COPY_GAIN)\",\"Sample\"])),1,7)\n",
    "tcga_brca1[BRCA1_copygain_samples,\"BRCA1_COPY_GAIN\"]<-1\n",
    "BRCA1_invspan_samples<-substr(unique(as.character(tcga_brca_svs[tcga_brca_svs$Gene ==\"BRCA1\" & tcga_brca_svs$BRCA_SV_category==\"Inversion spanning gene (INV_SPAN)\",\"Sample\"])),1,7)\n",
    "tcga_brca1[BRCA1_invspan_samples,\"BRCA1_INV_SPAN\"]<-1\n",
    "BRCA1_cpxlof_samples<-substr(unique(as.character(tcga_brca_svs[tcga_brca_svs$Gene ==\"BRCA1\" & tcga_brca_svs$BRCA_SV_category==\"Complex combination of SV intervals including 1+ LOF (CPX: LOF)\",\"Sample\"])),1,7)\n",
    "tcga_brca1[BRCA1_cpxlof_samples,\"BRCA1_CPX_LOF\"]<-1\n",
    "BRCA1_cpxnolof_samples<-substr(unique(as.character(tcga_brca_svs[tcga_brca_svs$Gene ==\"BRCA1\" & tcga_brca_svs$BRCA_SV_category==\"Complex combination of SVs without LOF\",\"Sample\"])),1,7)\n",
    "tcga_brca1[BRCA1_cpxnolof_samples,\"BRCA1_CPX_noLOF\"]<-1\n",
    "BRCA1_nolof_samples<-substr(unique(as.character(tcga_brca_svs[tcga_brca_svs$Gene ==\"BRCA1\" & tcga_brca_svs$BRCA_SV_category==\"SV without LOF\",\"Sample\"])),1,7)\n",
    "tcga_brca1[BRCA1_nolof_samples,\"BRCA1_noLOF\"]<-1\n",
    "BRCA1_intragenicdup_samples<-substr(unique(as.character(tcga_brca_svs[tcga_brca_svs$Gene ==\"BRCA1\" & tcga_brca_svs$BRCA_SV_category==\"Intragenic exonic duplication\",\"Sample\"])),1,7)\n",
    "tcga_brca1[BRCA1_intragenicdup_samples,\"BRCA1_intgendup\"]<-1\n"
   ]
  },
  {
   "cell_type": "markdown",
   "metadata": {},
   "source": [
    "## BRCA2 mutational status"
   ]
  },
  {
   "cell_type": "markdown",
   "metadata": {},
   "source": [
    "*SNVs*"
   ]
  },
  {
   "cell_type": "code",
   "execution_count": 83,
   "metadata": {
    "collapsed": true
   },
   "outputs": [],
   "source": [
    "aocsBRCA2germ<-c(\"AOCS_104\",\"AOCS_153\")\n",
    "shgsocBRCA2germ<-c(\"SHGSOC005\",\"SHGSOC009\",\"SHGSOC043\",\"SHGSOC051\",\"SHGSOC059\",\"SHGSOC100\")\n",
    "tcgaBRCA2germ<-c(\"DO29980\",\"DO30650\",\"DO30970\",\"DO32237\")\n",
    "\n",
    "aocsBRCA2som<-c(\"AOCS_063\",\"AOCS_122\",\"AOCS_147\",\"AOCS_149\")\n",
    "shgsocBRCA2som<-\"SHGSOC090\"\n",
    "tcgaBRCA2som<-c(\"DO28119\",\"DO28273\",\"DO31869\")\n"
   ]
  },
  {
   "cell_type": "markdown",
   "metadata": {},
   "source": [
    "*SVs*"
   ]
  },
  {
   "cell_type": "code",
   "execution_count": 84,
   "metadata": {
    "collapsed": true
   },
   "outputs": [],
   "source": [
    "aocs_brca2<-data.frame(BRCA2_Germline_SNV=rep(0,80),BRCA2_Somatic_SNV=rep(0,80),BRCA2_LOF=rep(0,80),BRCA2_COPY_GAIN=rep(0,80),BRCA2_INV_SPAN=rep(0,80),BRCA2_CPX_LOF=rep(0,80),BRCA2_CPX_noLOF=rep(0,80),BRCA2_noLOF=rep(0,80),BRCA2_intgendup=rep(0,80))\n",
    "rownames(aocs_brca2)<-as.character(hrdetect_score[grep(\"AOCS\",hrdetect_score$Sample),\"Sample\"])\n",
    "\n",
    "aocs_brca2[aocsBRCA2germ,\"BRCA2_Germline_SNV\"]<-1\n",
    "aocs_brca2[aocsBRCA2som,\"BRCA2_Somatic_SNV\"]<-1\n",
    "brca2_lof_samples<-substr(unique(as.character(aocs_brca_svs[aocs_brca_svs$Gene ==\"BRCA2\" & aocs_brca_svs$BRCA_SV_category==\"Deletion overlapping exon (LOF)\",\"Sample\"])),1,8)\n",
    "aocs_brca2[brca2_lof_samples,\"BRCA2_LOF\"]<-1\n",
    "brca2_copygain_samples<-substr(unique(as.character(aocs_brca_svs[aocs_brca_svs$Gene ==\"BRCA2\" & aocs_brca_svs$BRCA_SV_category==\"Duplication spanning gene (COPY_GAIN)\",\"Sample\"])),1,8)\n",
    "aocs_brca2[brca2_copygain_samples,\"BRCA2_COPY_GAIN\"]<-1\n",
    "brca2_invspan_samples<-substr(unique(as.character(aocs_brca_svs[aocs_brca_svs$Gene ==\"BRCA2\" & aocs_brca_svs$BRCA_SV_category==\"Inversion spanning gene (INV_SPAN)\",\"Sample\"])),1,8)\n",
    "aocs_brca2[brca2_invspan_samples,\"BRCA2_INV_SPAN\"]<-1\n",
    "brca2_cpxlof_samples<-substr(unique(as.character(aocs_brca_svs[aocs_brca_svs$Gene ==\"BRCA2\" & aocs_brca_svs$BRCA_SV_category==\"Complex combination of SV intervals including 1+ LOF (CPX: LOF)\",\"Sample\"])),1,8)\n",
    "aocs_brca2[brca2_cpxlof_samples,\"BRCA2_CPX_LOF\"]<-1\n",
    "brca2_cpxnolof_samples<-substr(unique(as.character(aocs_brca_svs[aocs_brca_svs$Gene ==\"BRCA2\" & aocs_brca_svs$BRCA_SV_category==\"Complex combination of SVs without LOF\",\"Sample\"])),1,8)\n",
    "aocs_brca2[brca2_cpxnolof_samples,\"BRCA2_CPX_noLOF\"]<-1\n",
    "brca2_nolof_samples<-substr(unique(as.character(aocs_brca_svs[aocs_brca_svs$Gene ==\"BRCA2\" & aocs_brca_svs$BRCA_SV_category==\"SV without LOF\",\"Sample\"])),1,8)\n",
    "aocs_brca2[brca2_nolof_samples,\"BRCA2_noLOF\"]<-1\n",
    "brca2_intragenicdup_samples<-substr(unique(as.character(aocs_brca_svs[aocs_brca_svs$Gene ==\"BRCA2\" & aocs_brca_svs$BRCA_SV_category==\"Intragenic exonic duplication\",\"Sample\"])),1,8)\n",
    "aocs_brca2[brca2_intragenicdup_samples,\"BRCA2_intgendup\"]<-1"
   ]
  },
  {
   "cell_type": "code",
   "execution_count": 85,
   "metadata": {
    "collapsed": true
   },
   "outputs": [],
   "source": [
    "shgsoc_brca2<-data.frame(BRCA2_Germline_SNV=rep(0,85),BRCA2_Somatic_SNV=rep(0,85),BRCA2_LOF=rep(0,85),BRCA2_COPY_GAIN=rep(0,85),BRCA2_INV_SPAN=rep(0,85),BRCA2_CPX_LOF=rep(0,85),BRCA2_CPX_noLOF=rep(0,85),BRCA2_noLOF=rep(0,85),BRCA2_intgendup=rep(0,85))\n",
    "rownames(shgsoc_brca2)<-as.character(hrdetect_score[grep(\"SHGSOC\",hrdetect_score$Sample),\"Sample\"])\n",
    "\n",
    "shgsoc_brca2[shgsocBRCA2germ,\"BRCA2_Germline_SNV\"]<-1\n",
    "shgsoc_brca2[shgsocBRCA2som,\"BRCA2_Somatic_SNV\"]<-1\n",
    "brca2_lof_samples<-substr(unique(as.character(shgsoc_brca_svs[shgsoc_brca_svs$Gene ==\"BRCA2\" & shgsoc_brca_svs$BRCA_SV_category==\"Deletion overlapping exon (LOF)\",\"Sample\"])),1,9)\n",
    "shgsoc_brca2[brca2_lof_samples,\"BRCA2_LOF\"]<-1\n",
    "brca2_copygain_samples<-substr(unique(as.character(shgsoc_brca_svs[shgsoc_brca_svs$Gene ==\"BRCA2\" & shgsoc_brca_svs$BRCA_SV_category==\"Duplication spanning gene (COPY_GAIN)\",\"Sample\"])),1,9)\n",
    "shgsoc_brca2[brca2_copygain_samples,\"BRCA2_COPY_GAIN\"]<-1\n",
    "brca2_invspan_samples<-substr(unique(as.character(shgsoc_brca_svs[shgsoc_brca_svs$Gene ==\"BRCA2\" & shgsoc_brca_svs$BRCA_SV_category==\"Inversion spanning gene (INV_SPAN)\",\"Sample\"])),1,9)\n",
    "shgsoc_brca2[brca2_invspan_samples,\"BRCA2_INV_SPAN\"]<-1\n",
    "brca2_cpxlof_samples<-substr(unique(as.character(shgsoc_brca_svs[shgsoc_brca_svs$Gene ==\"BRCA2\" & shgsoc_brca_svs$BRCA_SV_category==\"Complex combination of SV intervals including 1+ LOF (CPX: LOF)\",\"Sample\"])),1,9)\n",
    "shgsoc_brca2[brca2_cpxlof_samples,\"BRCA2_CPX_LOF\"]<-1\n",
    "brca2_cpxnolof_samples<-substr(unique(as.character(shgsoc_brca_svs[shgsoc_brca_svs$Gene ==\"BRCA2\" & shgsoc_brca_svs$BRCA_SV_category==\"Complex combination of SVs without LOF\",\"Sample\"])),1,9)\n",
    "shgsoc_brca2[brca2_cpxnolof_samples,\"BRCA2_CPX_noLOF\"]<-1\n",
    "brca2_nolof_samples<-substr(unique(as.character(shgsoc_brca_svs[shgsoc_brca_svs$Gene ==\"BRCA2\" & shgsoc_brca_svs$BRCA_SV_category==\"SV without LOF\",\"Sample\"])),1,9)\n",
    "shgsoc_brca2[brca2_nolof_samples,\"BRCA2_noLOF\"]<-1\n",
    "brca2_intragenicdup_samples<-substr(unique(as.character(shgsoc_brca_svs[shgsoc_brca_svs$Gene ==\"BRCA2\" & shgsoc_brca_svs$BRCA_SV_category==\"Intragenic exonic duplication\",\"Sample\"])),1,9)\n",
    "shgsoc_brca2[brca2_intragenicdup_samples,\"BRCA2_intgendup\"]<-1\n"
   ]
  },
  {
   "cell_type": "code",
   "execution_count": 86,
   "metadata": {
    "collapsed": true
   },
   "outputs": [],
   "source": [
    "tcga_brca2<-data.frame(BRCA2_Germline_SNV=rep(0,45),BRCA2_Somatic_SNV=rep(0,45),BRCA2_LOF=rep(0,45),BRCA2_COPY_GAIN=rep(0,45),BRCA2_INV_SPAN=rep(0,45),BRCA2_CPX_LOF=rep(0,45),BRCA2_CPX_noLOF=rep(0,45),BRCA2_noLOF=rep(0,45),BRCA2_intgendup=rep(0,45))\n",
    "rownames(tcga_brca2)<-as.character(hrdetect_score[grep(\"DO\",hrdetect_score$Sample),\"Sample\"])\n",
    "\n",
    "tcga_brca2[tcgaBRCA2germ,\"BRCA2_Germline_SNV\"]<-1\n",
    "tcga_brca2[tcgaBRCA2som,\"BRCA2_Somatic_SNV\"]<-1\n",
    "BRCA2_lof_samples<-substr(unique(as.character(tcga_brca_svs[tcga_brca_svs$Gene ==\"BRCA2\" & tcga_brca_svs$BRCA_SV_category==\"Deletion overlapping exon (LOF)\",\"Sample\"])),1,7)\n",
    "tcga_brca2[BRCA2_lof_samples,\"BRCA2_LOF\"]<-1\n",
    "BRCA2_copygain_samples<-substr(unique(as.character(tcga_brca_svs[tcga_brca_svs$Gene ==\"BRCA2\" & tcga_brca_svs$BRCA_SV_category==\"Duplication spanning gene (COPY_GAIN)\",\"Sample\"])),1,7)\n",
    "tcga_brca2[BRCA2_copygain_samples,\"BRCA2_COPY_GAIN\"]<-1\n",
    "BRCA2_invspan_samples<-substr(unique(as.character(tcga_brca_svs[tcga_brca_svs$Gene ==\"BRCA2\" & tcga_brca_svs$BRCA_SV_category==\"Inversion spanning gene (INV_SPAN)\",\"Sample\"])),1,7)\n",
    "tcga_brca2[BRCA2_invspan_samples,\"BRCA2_INV_SPAN\"]<-1\n",
    "BRCA2_cpxlof_samples<-substr(unique(as.character(tcga_brca_svs[tcga_brca_svs$Gene ==\"BRCA2\" & tcga_brca_svs$BRCA_SV_category==\"Complex combination of SV intervals including 1+ LOF (CPX: LOF)\",\"Sample\"])),1,7)\n",
    "tcga_brca2[BRCA2_cpxlof_samples,\"BRCA2_CPX_LOF\"]<-1\n",
    "BRCA2_cpxnolof_samples<-substr(unique(as.character(tcga_brca_svs[tcga_brca_svs$Gene ==\"BRCA2\" & tcga_brca_svs$BRCA_SV_category==\"Complex combination of SVs without LOF\",\"Sample\"])),1,7)\n",
    "tcga_brca2[BRCA2_cpxnolof_samples,\"BRCA2_CPX_noLOF\"]<-1\n",
    "BRCA2_nolof_samples<-substr(unique(as.character(tcga_brca_svs[tcga_brca_svs$Gene ==\"BRCA2\" & tcga_brca_svs$BRCA_SV_category==\"SV without LOF\",\"Sample\"])),1,7)\n",
    "tcga_brca2[BRCA2_nolof_samples,\"BRCA2_noLOF\"]<-1\n",
    "BRCA2_intragenicdup_samples<-substr(unique(as.character(tcga_brca_svs[tcga_brca_svs$Gene ==\"BRCA2\" & tcga_brca_svs$BRCA_SV_category==\"Intragenic exonic duplication\",\"Sample\"])),1,7)\n",
    "tcga_brca2[BRCA2_intragenicdup_samples,\"BRCA2_intgendup\"]<-1"
   ]
  },
  {
   "cell_type": "code",
   "execution_count": 87,
   "metadata": {
    "collapsed": true
   },
   "outputs": [],
   "source": [
    "brca1<-rbind(aocs_brca1,shgsoc_brca1,tcga_brca1)\n",
    "brca2<-rbind(aocs_brca2,shgsoc_brca2,tcga_brca2)\n",
    "\n",
    "brca<-merge(brca1,brca2,by=0)\n",
    "colnames(brca)[1]<-\"Sample\""
   ]
  },
  {
   "cell_type": "code",
   "execution_count": 89,
   "metadata": {
    "collapsed": true
   },
   "outputs": [],
   "source": [
    "write.table(brca,file=\"Manuscript/Intermediate_data/BRCAstatus.txt\",sep=\"\\t\",quote=F,row.names=F)"
   ]
  },
  {
   "cell_type": "markdown",
   "metadata": {},
   "source": [
    "## Format BRCA status mutually exclusive categories"
   ]
  },
  {
   "cell_type": "markdown",
   "metadata": {},
   "source": [
    "Status' with SNVs/indels included."
   ]
  },
  {
   "cell_type": "code",
   "execution_count": 90,
   "metadata": {
    "collapsed": true
   },
   "outputs": [],
   "source": [
    "brca$BRCAstatus<-\"None\"\n",
    "brca$BRCA1status<-\"None\"\n",
    "brca$BRCA2status<-\"None\"\n",
    "\n",
    "brca[brca$BRCA1_LOF==1,\"BRCA1status\"]<-\"Deletion overlapping exon (LOF)\"\n",
    "brca[brca$BRCA1_COPY_GAIN==1,\"BRCA1status\"]<-\"Duplication spanning gene (COPY_GAIN)\"\n",
    "brca[brca$BRCA1_INV_SPAN==1,\"BRCA1status\"]<-\"Inversion spanning gene (INV_SPAN)\"\n",
    "brca[brca$BRCA1_CPX_LOF==1,\"BRCA1status\"]<-\"Complex combination of SV intervals including 1+ LOF (CPX: LOF)\"\n",
    "brca[brca$BRCA1_CPX_noLOF==1,\"BRCA1status\"]<-\"Complex combination of SVs without LOF\"\n",
    "brca[brca$BRCA1_noLOF==1,\"BRCA1status\"]<-\"SV without LOF\"\n",
    "brca[brca$BRCA1_intgendup==1,\"BRCA1status\"]<-\"Intragenic exonic duplication\"\n",
    "brca[brca$BRCA1_Somatic_SNV==1,\"BRCA1status\"]<-\"Somatic SNV\"\n",
    "brca[brca$BRCA1_Germline_SNV==1,\"BRCA1status\"]<-\"Germline SNV\"\n",
    "\n",
    "brca[brca$BRCA2_LOF==1,\"BRCA2status\"]<-\"Deletion overlapping exon (LOF)\"\n",
    "brca[brca$BRCA2_COPY_GAIN==1,\"BRCA2status\"]<-\"Duplication spanning gene (COPY_GAIN)\"\n",
    "brca[brca$BRCA2_INV_SPAN==1,\"BRCA2status\"]<-\"Inversion spanning gene (INV_SPAN)\"\n",
    "brca[brca$BRCA2_CPX_LOF==1,\"BRCA2status\"]<-\"Complex combination of SV intervals including 1+ LOF (CPX: LOF)\"\n",
    "brca[brca$BRCA2_CPX_noLOF==1,\"BRCA2status\"]<-\"Complex combination of SVs without LOF\"\n",
    "brca[brca$BRCA2_noLOF==1,\"BRCA2status\"]<-\"SV without LOF\"\n",
    "brca[brca$BRCA2_intgendup==1,\"BRCA2status\"]<-\"Intragenic exonic duplication\"\n",
    "brca[brca$BRCA2_Somatic_SNV==1,\"BRCA2status\"]<-\"Somatic SNV\"\n",
    "brca[brca$BRCA2_Germline_SNV==1,\"BRCA2status\"]<-\"Germline SNV\"\n",
    "\n",
    "brca[brca$BRCA1_intgendup==1 | brca$BRCA2_intgendup==1,\"BRCAstatus\"]<-\"Intragenic exonic duplication\"\n",
    "brca[brca$BRCA1_noLOF==1 | brca$BRCA2_noLOF==1,\"BRCAstatus\"]<-\"SV without LOF\"\n",
    "brca[brca$BRCA1_CPX_noLOF==1 | brca$BRCA2_CPX_noLOF==1,\"BRCAstatus\"]<-\"Complex combination of SVs without LOF\"\n",
    "brca[brca$BRCA1_CPX_LOF==1 | brca$BRCA2_CPX_LOF==1,\"BRCAstatus\"]<-\"Complex combination of SV intervals including 1+ LOF (CPX: LOF)\"\n",
    "brca[brca$BRCA1_COPY_GAIN==1|brca$BRCA2_COPY_GAIN==1,\"BRCAstatus\"]<-\"Duplication spanning gene (COPY_GAIN)\"\n",
    "brca[brca$BRCA1_INV_SPAN==1 | brca$BRCA2_INV_SPAN==1,\"BRCAstatus\"]<-\"Inversion spanning gene (INV_SPAN)\"\n",
    "brca[brca$BRCA1_LOF==1 | brca$BRCA2_LOF==1,\"BRCAstatus\"]<-\"Deletion overlapping exon (LOF)\"\n",
    "brca[brca$BRCA1_Somatic_SNV==1 | brca$BRCA2_Somatic_SNV==1,\"BRCAstatus\"]<-\"Somatic SNV\"\n",
    "brca[brca$BRCA1_Germline_SNV==1 | brca$BRCA2_Germline_SNV==1,\"BRCAstatus\"]<-\"Germline SNV\""
   ]
  },
  {
   "cell_type": "markdown",
   "metadata": {},
   "source": [
    "Status' irrespective of SNVs/indels."
   ]
  },
  {
   "cell_type": "code",
   "execution_count": 92,
   "metadata": {
    "collapsed": true
   },
   "outputs": [],
   "source": [
    "brca$BRCAstatus_SV<-\"SV absent\"\n",
    "brca$BRCA1status_SV<-\"SV absent\"\n",
    "brca$BRCA2status_SV<-\"SV absent\"\n",
    "\n",
    "brca[brca$BRCA1_LOF==1,\"BRCA1status_SV\"]<-\"Deletion overlapping exon (LOF)\"\n",
    "brca[brca$BRCA1_COPY_GAIN==1,\"BRCA1status_SV\"]<-\"Duplication spanning gene (COPY_GAIN)\"\n",
    "brca[brca$BRCA1_INV_SPAN==1,\"BRCA1status_SV\"]<-\"Inversion spanning gene (INV_SPAN)\"\n",
    "brca[brca$BRCA1_CPX_LOF==1,\"BRCA1status_SV\"]<-\"Complex combination of SV intervals including 1+ LOF (CPX: LOF)\"\n",
    "brca[brca$BRCA1_CPX_noLOF==1,\"BRCA1status_SV\"]<-\"Complex combination of SVs without LOF\"\n",
    "brca[brca$BRCA1_noLOF==1,\"BRCA1status_SV\"]<-\"SV without LOF\"\n",
    "brca[brca$BRCA1_intgendup==1,\"BRCA1status_SV\"]<-\"Intragenic exonic duplication\"\n",
    "\n",
    "\n",
    "brca[brca$BRCA2_LOF==1,\"BRCA2status_SV\"]<-\"Deletion overlapping exon (LOF)\"\n",
    "brca[brca$BRCA2_COPY_GAIN==1,\"BRCA2status_SV\"]<-\"Duplication spanning gene (COPY_GAIN)\"\n",
    "brca[brca$BRCA2_INV_SPAN==1,\"BRCA2status_SV\"]<-\"Inversion spanning gene (INV_SPAN)\"\n",
    "brca[brca$BRCA2_CPX_LOF==1,\"BRCA2status_SV\"]<-\"Complex combination of SV intervals including 1+ LOF (CPX: LOF)\"\n",
    "brca[brca$BRCA2_CPX_noLOF==1,\"BRCA2status_SV\"]<-\"Complex combination of SVs without LOF\"\n",
    "brca[brca$BRCA2_noLOF==1,\"BRCA2status_SV\"]<-\"SV without LOF\"\n",
    "brca[brca$BRCA2_intgendup==1,\"BRCA2status_SV\"]<-\"Intragenic exonic duplication\"\n",
    "\n",
    "brca[brca$BRCA1_intgendup==1 | brca$BRCA2_intgendup==1,\"BRCAstatus_SV\"]<-\"Intragenic exonic duplication\"\n",
    "brca[brca$BRCA1_noLOF==1 | brca$BRCA2_noLOF==1,\"BRCAstatus_SV\"]<-\"SV without LOF\"\n",
    "brca[brca$BRCA1_CPX_noLOF==1 | brca$BRCA2_CPX_noLOF==1,\"BRCAstatus_SV\"]<-\"Complex combination of SVs without LOF\"\n",
    "brca[brca$BRCA1_CPX_LOF==1 | brca$BRCA2_CPX_LOF==1,\"BRCAstatus_SV\"]<-\"Complex combination of SV intervals including 1+ LOF (CPX: LOF)\"\n",
    "brca[brca$BRCA1_COPY_GAIN==1|brca$BRCA2_COPY_GAIN==1,\"BRCAstatus_SV\"]<-\"Duplication spanning gene (COPY_GAIN)\"\n",
    "brca[brca$BRCA1_INV_SPAN==1 | brca$BRCA2_INV_SPAN==1,\"BRCAstatus_SV\"]<-\"Inversion spanning gene (INV_SPAN)\"\n",
    "brca[brca$BRCA1_LOF==1 | brca$BRCA2_LOF==1,\"BRCAstatus_SV\"]<-\"Single deletion\"\n",
    "brca[brca$BRCA1_LOF==1 & brca$BRCA2_LOF==1,\"BRCAstatus_SV\"]<-\"Double deletion\"\n"
   ]
  },
  {
   "cell_type": "markdown",
   "metadata": {},
   "source": [
    "Compound mutational status'."
   ]
  },
  {
   "cell_type": "code",
   "execution_count": null,
   "metadata": {
    "collapsed": false
   },
   "outputs": [],
   "source": [
    "brca$BRCAstatus_compound<-\"Excluded\"\n",
    "brca$BRCA1status_compound<-\"Excluded\"\n",
    "brca$BRCA2status_compound<-\"Excluded\"\n",
    "\n",
    "brca[brca$BRCAstatus==\"None\",\"BRCAstatus_compound\"]<-\"None\"\n",
    "brca[brca$BRCA1status==\"None\",\"BRCA1status_compound\"]<-\"None\"\n",
    "brca[brca$BRCA2status==\"None\",\"BRCA2status_compound\"]<-\"None\"\n",
    "\n",
    "brca[((brca$BRCA1status==\"Germline SNV\" | brca$BRCA1status==\"Somatic SNV\") & \n",
    "      brca$BRCA1status_SV==\"Deletion overlapping exon (LOF)\" &\n",
    "      brca$BRCA2status_SV!=\"Deletion overlapping exon (LOF)\"),\n",
    "\"BRCA1status_compound\"]<-\"SNV + deletion (same gene)\"\n",
    "\n",
    "brca[((brca$BRCA2status==\"Germline SNV\" | brca$BRCA2status==\"Somatic SNV\") & \n",
    "      brca$BRCA2status_SV==\"Deletion overlapping exon (LOF)\" &\n",
    "     brca$BRCA1status_SV!=\"Deletion overlapping exon (LOF)\"),\n",
    "\"BRCA2status_compound\"]<-\"SNV + deletion (same gene)\"\n",
    "\n",
    "brca[brca$BRCA1status_compound==\"SNV + deletion (same gene)\" | brca$BRCA2status_compound==\"SNV + deletion (same gene)\",\n",
    "     \"BRCAstatus_compound\"]<-\"SNV + deletion (same gene)\"\n",
    "\n",
    "#SNV + deletion (different gene)\n",
    "brca[((brca$BRCA1status==\"Germline SNV\" | brca$BRCA1status==\"Somatic SNV\") & \n",
    "      brca$BRCA1status_SV!=\"Deletion overlapping exon (LOF)\" &\n",
    "      brca$BRCA2status_SV==\"Deletion overlapping exon (LOF)\"),\n",
    "\"BRCA1status_compound\"]<-\"SNV + deletion (other gene)\"\n",
    "\n",
    "brca[((brca$BRCA2status==\"Germline SNV\" | brca$BRCA2status==\"Somatic SNV\") & \n",
    "      brca$BRCA2status_SV!=\"Deletion overlapping exon (LOF)\" &\n",
    "     brca$BRCA1status_SV==\"Deletion overlapping exon (LOF)\"),\n",
    "\"BRCA2status_compound\"]<-\"SNV + deletion (other gene)\"\n",
    "\n",
    "brca[brca$BRCA1status_compound==\"SNV + deletion (other gene)\" | brca$BRCA2status_compound==\"SNV + deletion (other gene)\",\n",
    "     \"BRCAstatus_compound\"]<-\"SNV + deletion (other gene)\"\n",
    "\n",
    "#SNV + deletion (both genes)\n",
    "brca[((brca$BRCA1status==\"Germline SNV\" | brca$BRCA1status==\"Somatic SNV\") & \n",
    "      brca$BRCA1status_SV==\"Deletion overlapping exon (LOF)\" &\n",
    "      brca$BRCA2status_SV==\"Deletion overlapping exon (LOF)\"),\n",
    "\"BRCA1status_compound\"]<-\"SNV + deletions (both genes)\"\n",
    "\n",
    "brca[((brca$BRCA2status==\"Germline SNV\" | brca$BRCA2status==\"Somatic SNV\") & \n",
    "      brca$BRCA2status_SV==\"Deletion overlapping exon (LOF)\" &\n",
    "     brca$BRCA1status_SV==\"Deletion overlapping exon (LOF)\"),\n",
    "\"BRCA2status_compound\"]<-\"SNV + deletions (both genes)\"\n",
    "\n",
    "brca[brca$BRCA1status_compound==\"SNV + deletions (both genes)\" | brca$BRCA2status_compound==\"SNV + deletions (both genes)\",\n",
    "     \"BRCAstatus_compound\"]<-\"SNV + deletions (both genes)\"\n",
    "\n",
    "brca[(brca$BRCA1_LOF==1 & brca$BRCA2_LOF==1 ),\"Double_del\"]<-\"Double deletion\"\n"
   ]
  },
  {
   "cell_type": "markdown",
   "metadata": {},
   "source": [
    "## Merge datasets"
   ]
  },
  {
   "cell_type": "code",
   "execution_count": 104,
   "metadata": {
    "collapsed": false
   },
   "outputs": [],
   "source": [
    "brca$Sample<-as.character(brca$Sample)\n",
    "dat1<-merge(brca[,c(\"Sample\",\"BRCAstatus\",\"BRCA1status\",\"BRCA2status\",\"BRCAstatus_SV\",\"BRCA1status_SV\",\"BRCA2status_SV\",\"BRCA1status_compound\",\"BRCA2status_compound\",\"BRCAstatus_compound\",\"Double_del\")],all_rnaseq_brca,by=\"Sample\",all.x=T)\n",
    "dat2<-merge(dat1,facets_score,by=\"Sample\")\n",
    "dat3<-merge(dat2,purity,by=\"Sample\")\n",
    "dat4<-merge(dat3,brca1_loh,by=\"Sample\")\n",
    "dat5<-merge(dat4,brca2_loh,by=\"Sample\")\n",
    "dat6<-merge(dat5,nonHR,by=\"Sample\")\n",
    "dat7<-merge(dat6,mut_load,by=\"Sample\")\n",
    "dat8<-merge(dat7,SV_load,by=\"Sample\")\n",
    "dat9<-merge(dat8,CNV_load,by=\"Sample\")\n",
    "dat10<-merge(dat9,brca1_pro_meth,by=\"Sample\")\n",
    "SampleInfo<-merge(dat10,hrdetect_score,by=\"Sample\")\n"
   ]
  },
  {
   "cell_type": "markdown",
   "metadata": {},
   "source": [
    "## Late sample exclusions"
   ]
  },
  {
   "cell_type": "markdown",
   "metadata": {},
   "source": [
    "Exclude 1 uterine carcinoma, 3 carcinosarcomas and one sample with contamination in the paired normal."
   ]
  },
  {
   "cell_type": "code",
   "execution_count": 105,
   "metadata": {
    "collapsed": false
   },
   "outputs": [
    {
     "data": {
      "text/html": [
       "<ol class=list-inline>\n",
       "\t<li>205</li>\n",
       "\t<li>37</li>\n",
       "</ol>\n"
      ],
      "text/latex": [
       "\\begin{enumerate*}\n",
       "\\item 205\n",
       "\\item 37\n",
       "\\end{enumerate*}\n"
      ],
      "text/markdown": [
       "1. 205\n",
       "2. 37\n",
       "\n",
       "\n"
      ],
      "text/plain": [
       "[1] 205  37"
      ]
     },
     "metadata": {},
     "output_type": "display_data"
    }
   ],
   "source": [
    "SampleInfo<-SampleInfo[(SampleInfo$Sample %in% c(\"SHGSOC060\",\"SHGSOC064\",\"SHGSOC027\",\"SHGSOC005\",\"DO30650\"))==\"FALSE\",]\n",
    "dim(SampleInfo)"
   ]
  },
  {
   "cell_type": "markdown",
   "metadata": {},
   "source": [
    "Add derived variables"
   ]
  },
  {
   "cell_type": "code",
   "execution_count": 106,
   "metadata": {
    "collapsed": true
   },
   "outputs": [],
   "source": [
    "SampleInfo$WGD<-0\n",
    "SampleInfo[SampleInfo$Facets_WGD_score>=0.5,\"WGD\"]<-1"
   ]
  },
  {
   "cell_type": "code",
   "execution_count": 107,
   "metadata": {
    "collapsed": true
   },
   "outputs": [],
   "source": [
    "SampleInfo$Cohort<-substr(SampleInfo$Sample,1,2)"
   ]
  },
  {
   "cell_type": "markdown",
   "metadata": {},
   "source": [
    "Create full and reduced feature sets"
   ]
  },
  {
   "cell_type": "code",
   "execution_count": 116,
   "metadata": {
    "collapsed": false
   },
   "outputs": [],
   "source": [
    "SampleInfo_base<-SampleInfo[,c(1,39,2:11,27:28,34,29:30,12,13,24,38,25:26,31:33,35:37)]\n",
    "SampleInfo_full<-SampleInfo[,c(1,39,2:11,27:28,34,29:30,12,13,24,38,25:26,31:33,35:37,14:23)]\n",
    "\n",
    "rownames(SampleInfo_base)<-as.character(SampleInfo_base$Sample)\n",
    "rownames(SampleInfo_full)<-as.character(SampleInfo_full$Sample)"
   ]
  },
  {
   "cell_type": "markdown",
   "metadata": {},
   "source": [
    "## Output data frames to file"
   ]
  },
  {
   "cell_type": "code",
   "execution_count": 117,
   "metadata": {
    "collapsed": false
   },
   "outputs": [],
   "source": [
    "write.table(SampleInfo_base,file=\"Manuscript/Intermediate_data/SampleInformation.txt\",sep=\"\\t\",quote=F)\n",
    "write.table(SampleInfo_full,file=\"Manuscript/Intermediate_data/SampleInformation_full.txt\",sep=\"\\t\",quote=F)"
   ]
  },
  {
   "cell_type": "markdown",
   "metadata": {},
   "source": [
    "## Format data frame for multivariable modelling"
   ]
  },
  {
   "cell_type": "code",
   "execution_count": null,
   "metadata": {
    "collapsed": false
   },
   "outputs": [],
   "source": [
    "brca<-brca[(brca$Sample %in% c(\"SHGSOC060\",\"SHGSOC064\",\"SHGSOC027\",\"SHGSOC005\",\"DO30650\"))==\"FALSE\",]\n",
    "\n",
    "lasso_samples<-data.frame(brca[,c(\"Sample\",\"BRCA1_Germline_SNV\",\"BRCA1_Somatic_SNV\",\"BRCA1_LOF\",\"BRCA2_Germline_SNV\",\"BRCA2_Somatic_SNV\",\"BRCA2_LOF\",\"BRCA1_INV_SPAN\",\"BRCA2_COPY_GAIN\",\"BRCA1status_compound\",\"BRCA2status_compound\",\"Double_del\")],\n",
    "                         SampleInfo_full[,grep(\"VST\",names(SampleInfo_full))],BRCA1_pro_meth=SampleInfo_full$BRCA1_pro_meth,\n",
    "                         non_BRCA_Somatic_SNV=SampleInfo_full$non_BRCA_HR_Somatic_SNV,non_BRCA_Germline_SNV=SampleInfo_full$non_BRCA_HR_Germline_SNV,\n",
    "                        Mutational_load=SampleInfo_full$Mutational_load,SV_load=SampleInfo_full$SV_load,\n",
    "                         CNV_load=SampleInfo_full$CNV_load,WGD=SampleInfo_full$WGD,Cellularity=SampleInfo_full$Purity,\n",
    "\n",
    "                        HRDetect=SampleInfo_full$HRDetect,\n",
    "                       \n",
    "                       Cohort=SampleInfo_full$Cohort)\n",
    "\n",
    "write.table(lasso_samples,file=\"Manuscript/Intermediate_data/SampleInformation_withBRCAstatus.txt\",sep=\"\\t\",row.names=F,quote=F)\n",
    "\n",
    "lasso_samples_expr<-lasso_samples[is.na(lasso_samples$BRCA1_VST)==FALSE,setdiff(colnames(lasso_samples),\"BRCAstatus\")]\n",
    "\n",
    "rf_dataset<-lasso_samples_expr\n",
    "\n",
    "genomic_dataset<-lasso_samples[,setdiff(colnames(lasso_samples),\n",
    "                                        c(\"BRCA1_VST\",\"BRCA2_VST\",\"BARD1_VST\",\"RAD50_VST\",\"NBN_VST\",\"MRE11_VST\" ,\n",
    "                                          \"RAD51B_VST\" ,\"RAD51_VST\",\"PALB2_VST\",\"RAD51D_VST\",\"RAD51C_VST\" , \n",
    "                                          \"BRIP1_VST\", \"BRCAstatus\",\"non_BRCA_Somatic_SNV\",\"non_BRCA_Germline_SNV\"))]\n"
   ]
  },
  {
   "cell_type": "code",
   "execution_count": 132,
   "metadata": {
    "collapsed": false
   },
   "outputs": [
    {
     "name": "stdout",
     "output_type": "stream",
     "text": [
      " [1] \"Sample\"                \"BRCA1_Germline_SNV\"    \"BRCA1_Somatic_SNV\"    \n",
      " [4] \"BRCA1_LOF\"             \"BRCA2_Germline_SNV\"    \"BRCA2_Somatic_SNV\"    \n",
      " [7] \"BRCA2_LOF\"             \"BRCA1_INV_SPAN\"        \"BRCA2_COPY_GAIN\"      \n",
      "[10] \"BRCA1status_compound\"  \"BRCA2status_compound\"  \"Double_del\"           \n",
      "[13] \"BRCA1_VST\"             \"BRCA2_VST\"             \"BARD1_VST\"            \n",
      "[16] \"RAD50_VST\"             \"NBN_VST\"               \"MRE11_VST\"            \n",
      "[19] \"RAD51B_VST\"            \"RAD51_VST\"             \"PALB2_VST\"            \n",
      "[22] \"RAD51D_VST\"            \"RAD51C_VST\"            \"BRIP1_VST\"            \n",
      "[25] \"BRCA1_pro_meth\"        \"non_BRCA_Somatic_SNV\"  \"non_BRCA_Germline_SNV\"\n",
      "[28] \"Mutational_load\"       \"SV_load\"               \"CNV_load\"             \n",
      "[31] \"WGD\"                   \"Cellularity\"           \"HRDetect\"             \n",
      "[34] \"Cohort\"               \n"
     ]
    }
   ],
   "source": [
    "print(names(lasso_samples_expr))"
   ]
  },
  {
   "cell_type": "code",
   "execution_count": 133,
   "metadata": {
    "collapsed": false
   },
   "outputs": [
    {
     "name": "stdout",
     "output_type": "stream",
     "text": [
      " [1] \"Sample\"               \"BRCA1_Germline_SNV\"   \"BRCA1_Somatic_SNV\"   \n",
      " [4] \"BRCA1_LOF\"            \"BRCA2_Germline_SNV\"   \"BRCA2_Somatic_SNV\"   \n",
      " [7] \"BRCA2_LOF\"            \"BRCA1_INV_SPAN\"       \"BRCA2_COPY_GAIN\"     \n",
      "[10] \"BRCA1status_compound\" \"BRCA2status_compound\" \"Double_del\"          \n",
      "[13] \"BRCA1_pro_meth\"       \"Mutational_load\"      \"SV_load\"             \n",
      "[16] \"CNV_load\"             \"WGD\"                  \"Cellularity\"         \n",
      "[19] \"HRDetect\"             \"Cohort\"              \n"
     ]
    }
   ],
   "source": [
    "print(names(genomic_dataset))"
   ]
  },
  {
   "cell_type": "markdown",
   "metadata": {},
   "source": [
    "## Output datasets for modelling"
   ]
  },
  {
   "cell_type": "code",
   "execution_count": 134,
   "metadata": {
    "collapsed": true
   },
   "outputs": [],
   "source": [
    "write.table(lasso_samples_expr,file=\"Manuscript/Intermediate_data/Dataset_for_lasso_regression.txt\",sep=\"\\t\",row.names=F,quote=F)\n",
    "write.table(rf_dataset,file=\"Manuscript/Intermediate_data/Dataset_for_randomforest.txt\",sep=\"\\t\",row.names=F,quote=F)\n",
    "write.table(genomic_dataset,file=\"Manuscript/Intermediate_data/Dataset_for_elastic_regression_genomic.txt\",sep=\"\\t\",row.names=F,quote=F)\n"
   ]
  }
 ],
 "metadata": {
  "kernelspec": {
   "display_name": "R",
   "language": "R",
   "name": "ir"
  },
  "language_info": {
   "codemirror_mode": "r",
   "file_extension": ".r",
   "mimetype": "text/x-r-source",
   "name": "R",
   "pygments_lexer": "r",
   "version": "3.6.0"
  },
  "toc": {
   "nav_menu": {},
   "number_sections": false,
   "sideBar": true,
   "skip_h1_title": false,
   "toc_cell": false,
   "toc_position": {},
   "toc_section_display": "block",
   "toc_window_display": true
  }
 },
 "nbformat": 4,
 "nbformat_minor": 2
}
