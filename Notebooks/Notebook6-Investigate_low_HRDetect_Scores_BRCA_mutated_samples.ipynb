{
 "cells": [
  {
   "cell_type": "markdown",
   "metadata": {},
   "source": [
    "*Ewing et al (2020) Structural variants at the BRCA1/2 loci are a common source of homologous repair deficiency in high grade serous ovarian carcinoma.*"
   ]
  },
  {
   "cell_type": "markdown",
   "metadata": {},
   "source": [
    "# Notebook 6 - Investigating samples with low HRDetect scores by category of BRCA1/2 mutation"
   ]
  },
  {
   "cell_type": "markdown",
   "metadata": {},
   "source": [
    "This notebook investigates whether the bimodal distribution of HRDetect scores in samples with BRCA1/2 short variants or deletions can be explained by other features such as deletion length."
   ]
  },
  {
   "cell_type": "markdown",
   "metadata": {},
   "source": [
    "## Load summary data and classify samples by mutational category"
   ]
  },
  {
   "cell_type": "code",
   "execution_count": 2,
   "metadata": {
    "collapsed": false
   },
   "outputs": [],
   "source": [
    "sampleInfo<-read.table(\"~/Desktop/BRCA1_BRCA2_SVs_paper/Manuscript/Intermediate_data/SampleInformation_full.txt\",sep=\"\\t\",header=T,stringsAsFactors=F)\n",
    "rownames(sampleInfo)<-sampleInfo[,1]\n",
    "\n",
    "sampleInfo[sampleInfo$BRCAstatus==\"None\" & sampleInfo$BRCA1_pro_meth==1,\"BRCAstatus\"]<-\"BRCA1 promoter methylation\"\n",
    "sampleInfo[sampleInfo$BRCAstatus==\"BRCA1 promoter methylation\",\"BRCAstatus_compound\"]<-\"BRCA1 promoter methylation\""
   ]
  },
  {
   "cell_type": "code",
   "execution_count": 3,
   "metadata": {
    "collapsed": false
   },
   "outputs": [],
   "source": [
    "dat<-sampleInfo[sampleInfo$BRCA1_pro_meth!=1,]\n"
   ]
  },
  {
   "cell_type": "markdown",
   "metadata": {},
   "source": [
    "## Define mutational categories"
   ]
  },
  {
   "cell_type": "code",
   "execution_count": 4,
   "metadata": {
    "collapsed": false
   },
   "outputs": [],
   "source": [
    "#Germline SNV\n",
    "    hrd_germSNV<-dat[(dat$BRCAstatus==\"Germline SNV\") & dat$BRCAstatus_SV=='SV absent' ,c(\"Sample\",\"HRDetect\")]\n",
    "    df_germ<-data.frame(MutCat=\"Germline SNV only\",HRD=hrd_germSNV,Col=\"SNV\")\n",
    "\n",
    "#Somatic SNV\n",
    "    hrd_somSNV<-dat[(dat$BRCAstatus==\"Somatic SNV\") & dat$BRCAstatus_SV=='SV absent',c(\"Sample\",\"HRDetect\")]\n",
    "    df_som<-data.frame(MutCat=\"Somatic SNV only\",HRD=hrd_somSNV,Col=\"SNV\")\n",
    "\n",
    "#Single BRCA1 deletion\n",
    "    hrd_singledel_brca1<-dat[(dat$BRCAstatus_SV==\"Single deletion\" & dat$BRCAstatus==\"Deletion overlapping exon (LOF)\" &\n",
    "        dat$BRCA1status==\"Deletion overlapping exon (LOF)\"),c(\"Sample\",\"HRDetect\")]\n",
    "    df_brca1del<-data.frame(MutCat=\"Single deletion at BRCA1\",HRD=hrd_singledel_brca1,Col=\"Deletion\")\n",
    "\n",
    "#Single BRCA2 deletion\n",
    "    hrd_singledel_brca2<-dat[(dat$BRCAstatus_SV==\"Single deletion\" & dat$BRCAstatus==\"Deletion overlapping exon (LOF)\" &\n",
    "        dat$BRCA2status==\"Deletion overlapping exon (LOF)\"),c(\"Sample\",\"HRDetect\")]\n",
    "    df_brca2del<-data.frame(MutCat=\"Single deletion at BRCA2\",HRD=hrd_singledel_brca2,Col=\"Deletion\")\n",
    "\n",
    "#Double deletion\n",
    "    hrd_doubledel<-dat[(dat$BRCAstatus_SV==\"Double deletion\" & dat$BRCAstatus==\"Deletion overlapping exon (LOF)\"),c(\"Sample\",\"HRDetect\")]\n",
    "    df_doubledel<-data.frame(MutCat=\"Double deletion\",HRD=hrd_doubledel,Col=\"Deletion\")\n",
    "\n",
    "#SNV+deletion (same gene)\n",
    "    hrd_same<-dat[((dat$BRCAstatus_compound==\"SNV + deletion (same gene)\")), c(\"Sample\",\"HRDetect\")]\n",
    "    df_snvdelsame<-data.frame(MutCat=\"Compound same\",HRD=hrd_same,Col=\"SNV + deletion\")\n",
    "\n",
    "#SNV+deletions (both)\n",
    "    hrd_both<-dat[((dat$BRCAstatus_compound==\"SNV + deletions (both genes)\")), c(\"Sample\",\"HRDetect\")]\n",
    "    df_snvdelboth<-data.frame(MutCat=\"Compound both\",HRD=hrd_both,Col=\"SNV + deletion\")\n",
    "\n",
    "#BRCA1 inversion\n",
    "    hrd_brca1inv<-dat[(dat$BRCA1status==\"Inversion spanning gene (INV_SPAN)\" & dat$BRCA2status==\"None\") ,c(\"Sample\",\"HRDetect\")]\n",
    "    df_brca1inv<-data.frame(MutCat=\"BRCA1 inversion\",HRD=hrd_brca1inv,Col=\"Non-deletion SV\")\n",
    "\n",
    "#BRCA2 duplication\n",
    "    hrd_brca2dups<-dat[(dat$BRCA2status==\"Duplication spanning gene (COPY_GAIN)\" & dat$BRCA1status==\"None\") ,c(\"Sample\",\"HRDetect\")]\n",
    "    df_brca2dup<-data.frame(MutCat=\"BRCA2 duplication\",HRD=hrd_brca2dups,Col=\"Non-deletion SV\")\n",
    "\n",
    "#Methylation\n",
    "    hrd_methyl<-sampleInfo[sampleInfo$BRCAstatus == \"BRCA1 promoter methylation\",c(\"Sample\",\"HRDetect\")]\n",
    "    df_methyl<-data.frame(MutCat=\"Promoter methylation\",HRD=hrd_methyl,Col=\"Methylation\")\n",
    "\n",
    "#Combine\n",
    "hrd_df<-rbind(df_germ,df_som,df_brca1del,df_brca2del,df_doubledel,df_snvdelsame,df_snvdelboth,df_brca1inv,df_brca2dup,df_methyl)\n",
    "\n",
    "colnames(hrd_df)<-c(\"MutCat\",\"Sample\",\"HRDetect\",\"Col\")\n"
   ]
  },
  {
   "cell_type": "markdown",
   "metadata": {},
   "source": [
    "## Investigating SNVs with low HRDetect scores"
   ]
  },
  {
   "cell_type": "code",
   "execution_count": 10,
   "metadata": {
    "collapsed": false
   },
   "outputs": [
    {
     "name": "stdout",
     "output_type": "stream",
     "text": [
      "             Sample Cohort   BRCAstatus BRCA1status  BRCA2status BRCAstatus_SV\n",
      "DO29980     DO29980     DO Germline SNV        None Germline SNV     SV absent\n",
      "SHGSOC043 SHGSOC043     SH Germline SNV        None Germline SNV     SV absent\n",
      "SHGSOC051 SHGSOC051     SH Germline SNV        None Germline SNV     SV absent\n",
      "SHGSOC059 SHGSOC059     SH Germline SNV        None Germline SNV     SV absent\n",
      "SHGSOC011 SHGSOC011     SH  Somatic SNV Somatic SNV         None     SV absent\n",
      "          BRCA1status_SV BRCA2status_SV BRCA1status_compound\n",
      "DO29980        SV absent      SV absent                 None\n",
      "SHGSOC043      SV absent      SV absent                 None\n",
      "SHGSOC051      SV absent      SV absent                 None\n",
      "SHGSOC059      SV absent      SV absent                 None\n",
      "SHGSOC011      SV absent      SV absent             Excluded\n",
      "          BRCA2status_compound BRCAstatus_compound Double_del BRCA1_LOH\n",
      "DO29980               Excluded            Excluded       <NA>         1\n",
      "SHGSOC043             Excluded            Excluded       <NA>         1\n",
      "SHGSOC051             Excluded            Excluded       <NA>         1\n",
      "SHGSOC059             Excluded            Excluded       <NA>         1\n",
      "SHGSOC011                 None            Excluded       <NA>         1\n",
      "          BRCA2_LOH BRCA1_pro_meth non_BRCA_HR_Germline_SNV\n",
      "DO29980           1              0                        0\n",
      "SHGSOC043         0              0                        1\n",
      "SHGSOC051         1              0                        0\n",
      "SHGSOC059         1              0                        0\n",
      "SHGSOC011         0              0                        0\n",
      "          non_BRCA_HR_Somatic_SNV BRCA1_VST BRCA2_VST Facets_WGD_score WGD\n",
      "DO29980                         0        NA        NA            0.837   1\n",
      "SHGSOC043                       0  11.71779  9.958691            0.154   0\n",
      "SHGSOC051                       0  10.14895  9.267225            0.623   1\n",
      "SHGSOC059                       0        NA        NA            0.908   1\n",
      "SHGSOC011                       0        NA        NA            0.278   0\n",
      "            Purity AvPloidy Mutational_load SV_load CNV_load  ReSig_3  ReSig_5\n",
      "DO29980   0.636788 2.967726            6143     201      144  0.00000 36.04593\n",
      "SHGSOC043 0.152745 1.789892           12237     346        8  0.00000  0.00000\n",
      "SHGSOC051 0.467535 2.704659            7992     430      144  0.00000  0.00000\n",
      "SHGSOC059 0.530404 3.075450           24722     947      146  0.00000  0.00000\n",
      "SHGSOC011 0.559782 4.018794           35554     236       99 47.48629  0.00000\n",
      "            HRDetect BARD1_VST RAD50_VST  NBN_VST MRE11_VST RAD51B_VST\n",
      "DO29980   0.24703519        NA        NA       NA        NA         NA\n",
      "SHGSOC043 0.17187388  11.97256  12.45725 11.14661  12.08850  11.036204\n",
      "SHGSOC051 0.01197738  10.26587  11.24952 12.55225  11.43756   8.897394\n",
      "SHGSOC059 0.09404727        NA        NA       NA        NA         NA\n",
      "SHGSOC011 0.67814158        NA        NA       NA        NA         NA\n",
      "          RAD51_VST PALB2_VST RAD51D_VST RAD51C_VST BRIP1_VST\n",
      "DO29980          NA        NA         NA         NA        NA\n",
      "SHGSOC043  8.172335  9.811522   9.563736   9.139030  11.61966\n",
      "SHGSOC051  6.975852  9.749639   9.598710   8.987828  10.30819\n",
      "SHGSOC059        NA        NA         NA         NA        NA\n",
      "SHGSOC011        NA        NA         NA         NA        NA\n"
     ]
    }
   ],
   "source": [
    "lowSNVs<-hrd_df[hrd_df$HRDetect<0.7 & hrd_df$Col==\"SNV\",]\n",
    "print(sampleInfo[lowSNVs[,\"Sample\"],])"
   ]
  },
  {
   "cell_type": "markdown",
   "metadata": {},
   "source": [
    "For SHGSOC043 there's no evidence of LOH. For SHGSOC011 with a somatic variant it has a HRDetect score very close to the threshold so possibly borderline? For the other three there's no evidence of the tumour having a lower proportion of WT supporting reads than the normal. Loss of the variant allele?\n",
    "\n",
    "These variants are 2 germline frameshift (SHGSOC043, SHGSOC051) and 2 germline missense in BRCA2 (DO29980, SHGSOC059) and 1 somatic frameshift in BRCA1 (SHGSOC011)."
   ]
  },
  {
   "cell_type": "markdown",
   "metadata": {},
   "source": [
    "## Deletions at BRCA1"
   ]
  },
  {
   "cell_type": "code",
   "execution_count": 21,
   "metadata": {
    "collapsed": false
   },
   "outputs": [],
   "source": [
    "Dels<-hrd_df[hrd_df$MutCat==\"Single deletion at BRCA1\",]\n",
    "df<-sampleInfo[Dels[,\"Sample\"],]\n",
    "df$HRD<-ifelse(df$HRDetect>0.7,\"HRD\",\"HRP\")\n",
    "df$whichBRCA<-ifelse(df$BRCA1status==\"Deletion overlapping exon (LOF)\",\"BRCA1\",\"BRCA2\")\n"
   ]
  },
  {
   "cell_type": "code",
   "execution_count": 22,
   "metadata": {
    "collapsed": false
   },
   "outputs": [],
   "source": [
    "vars_toconsider<-c(\"Facets_WGD_score\",\"AvPloidy\",\"Mutational_load\",\"SV_load\",\"CNV_load\",\"BRCA1_VST\")\n",
    "cat<-c(\"WGD\")"
   ]
  },
  {
   "cell_type": "code",
   "execution_count": 23,
   "metadata": {
    "collapsed": false
   },
   "outputs": [
    {
     "name": "stdout",
     "output_type": "stream",
     "text": [
      "[1] \"Facets_WGD_score\"\n",
      "\n",
      "\tWilcoxon rank sum test\n",
      "\n",
      "data:  df[, i] by df$HRD\n",
      "W = 18, p-value = 0.1212\n",
      "alternative hypothesis: true location shift is not equal to 0\n",
      "\n",
      "[1] \"AvPloidy\"\n",
      "\n",
      "\tWilcoxon rank sum test\n",
      "\n",
      "data:  df[, i] by df$HRD\n",
      "W = 17, p-value = 0.1818\n",
      "alternative hypothesis: true location shift is not equal to 0\n",
      "\n",
      "[1] \"Mutational_load\"\n",
      "\n",
      "\tWilcoxon rank sum test\n",
      "\n",
      "data:  df[, i] by df$HRD\n",
      "W = 11, p-value = 0.9091\n",
      "alternative hypothesis: true location shift is not equal to 0\n",
      "\n",
      "[1] \"SV_load\"\n"
     ]
    },
    {
     "name": "stderr",
     "output_type": "stream",
     "text": [
      "Warning message in wilcox.test.default(x = c(173L, 267L), y = c(140L, 71L, 140L, :\n",
      "“cannot compute exact p-value with ties”"
     ]
    },
    {
     "name": "stdout",
     "output_type": "stream",
     "text": [
      "\n",
      "\tWilcoxon rank sum test with continuity correction\n",
      "\n",
      "data:  df[, i] by df$HRD\n",
      "W = 10, p-value = 1\n",
      "alternative hypothesis: true location shift is not equal to 0\n",
      "\n",
      "[1] \"CNV_load\"\n"
     ]
    },
    {
     "name": "stderr",
     "output_type": "stream",
     "text": [
      "Warning message in wilcox.test.default(x = c(262L, 228L), y = c(112L, 107L, 285L, :\n",
      "“cannot compute exact p-value with ties”"
     ]
    },
    {
     "name": "stdout",
     "output_type": "stream",
     "text": [
      "\n",
      "\tWilcoxon rank sum test with continuity correction\n",
      "\n",
      "data:  df[, i] by df$HRD\n",
      "W = 18, p-value = 0.1065\n",
      "alternative hypothesis: true location shift is not equal to 0\n",
      "\n",
      "[1] \"BRCA1_VST\"\n",
      "\n",
      "\tWilcoxon rank sum test\n",
      "\n",
      "data:  df[, i] by df$HRD\n",
      "W = 6, p-value = 1\n",
      "alternative hypothesis: true location shift is not equal to 0\n",
      "\n"
     ]
    }
   ],
   "source": [
    "for (i in vars_toconsider){\n",
    "    print(i)\n",
    "    print(wilcox.test(df[,i] ~ df$HRD))\n",
    "}"
   ]
  },
  {
   "cell_type": "code",
   "execution_count": 24,
   "metadata": {
    "collapsed": false
   },
   "outputs": [
    {
     "data": {
      "text/plain": [
       "\n",
       "\tWilcoxon rank sum test\n",
       "\n",
       "data:  df_brca1$BRCA1_VST by df_brca1$HRD\n",
       "W = 6, p-value = 1\n",
       "alternative hypothesis: true location shift is not equal to 0\n"
      ]
     },
     "metadata": {},
     "output_type": "display_data"
    }
   ],
   "source": [
    "df_brca1<-df[df$whichBRCA==\"BRCA1\",]\n",
    "wilcox.test(df_brca1$BRCA1_VST ~ df_brca1$HRD)"
   ]
  },
  {
   "cell_type": "markdown",
   "metadata": {},
   "source": [
    "## Deletions at BRCA2"
   ]
  },
  {
   "cell_type": "code",
   "execution_count": 28,
   "metadata": {
    "collapsed": true
   },
   "outputs": [],
   "source": [
    "Dels<-hrd_df[hrd_df$MutCat==\"Single deletion at BRCA2\",]\n",
    "df<-sampleInfo[Dels[,\"Sample\"],]\n",
    "df$HRD<-ifelse(df$HRDetect>0.7,\"HRD\",\"HRP\")\n",
    "df$whichBRCA<-ifelse(df$BRCA1status==\"Deletion overlapping exon (LOF)\",\"BRCA1\",\"BRCA2\")"
   ]
  },
  {
   "cell_type": "code",
   "execution_count": 29,
   "metadata": {
    "collapsed": true
   },
   "outputs": [],
   "source": [
    "vars_toconsider<-c(\"Facets_WGD_score\",\"AvPloidy\",\"Mutational_load\",\"SV_load\",\"CNV_load\",\"BRCA2_VST\")\n",
    "cat<-c(\"WGD\")"
   ]
  },
  {
   "cell_type": "code",
   "execution_count": 31,
   "metadata": {
    "collapsed": false
   },
   "outputs": [
    {
     "name": "stdout",
     "output_type": "stream",
     "text": [
      "[1] \"Facets_WGD_score\"\n",
      "\n",
      "\tWilcoxon rank sum test\n",
      "\n",
      "data:  df[, i] by df$HRD\n",
      "W = 9, p-value = 0.9048\n",
      "alternative hypothesis: true location shift is not equal to 0\n",
      "\n",
      "[1] \"AvPloidy\"\n",
      "\n",
      "\tWilcoxon rank sum test\n",
      "\n",
      "data:  df[, i] by df$HRD\n",
      "W = 9, p-value = 0.9048\n",
      "alternative hypothesis: true location shift is not equal to 0\n",
      "\n",
      "[1] \"Mutational_load\"\n",
      "\n",
      "\tWilcoxon rank sum test\n",
      "\n",
      "data:  df[, i] by df$HRD\n",
      "W = 20, p-value = 0.01587\n",
      "alternative hypothesis: true location shift is not equal to 0\n",
      "\n",
      "[1] \"SV_load\"\n",
      "\n",
      "\tWilcoxon rank sum test\n",
      "\n",
      "data:  df[, i] by df$HRD\n",
      "W = 16, p-value = 0.1905\n",
      "alternative hypothesis: true location shift is not equal to 0\n",
      "\n",
      "[1] \"CNV_load\"\n",
      "\n",
      "\tWilcoxon rank sum test\n",
      "\n",
      "data:  df[, i] by df$HRD\n",
      "W = 9, p-value = 0.9048\n",
      "alternative hypothesis: true location shift is not equal to 0\n",
      "\n",
      "[1] \"BRCA2_VST\"\n",
      "\n",
      "\tWilcoxon rank sum test\n",
      "\n",
      "data:  df[, i] by df$HRD\n",
      "W = 5, p-value = 0.8\n",
      "alternative hypothesis: true location shift is not equal to 0\n",
      "\n"
     ]
    }
   ],
   "source": [
    "for (i in vars_toconsider){\n",
    "    print(i)\n",
    "    print(wilcox.test(df[,i] ~ df$HRD))\n",
    "}"
   ]
  },
  {
   "cell_type": "code",
   "execution_count": 32,
   "metadata": {
    "collapsed": false
   },
   "outputs": [
    {
     "data": {
      "text/plain": [
       "\n",
       "\tWilcoxon rank sum test\n",
       "\n",
       "data:  df_brca2$BRCA2_VST by df_brca2$HRD\n",
       "W = 5, p-value = 0.8\n",
       "alternative hypothesis: true location shift is not equal to 0\n"
      ]
     },
     "metadata": {},
     "output_type": "display_data"
    }
   ],
   "source": [
    "df_brca2<-df[df$whichBRCA==\"BRCA2\",]\n",
    "wilcox.test(df_brca2$BRCA2_VST ~ df_brca2$HRD)"
   ]
  },
  {
   "cell_type": "markdown",
   "metadata": {},
   "source": [
    "## Non-deletion SVs"
   ]
  },
  {
   "cell_type": "code",
   "execution_count": 40,
   "metadata": {
    "collapsed": true
   },
   "outputs": [],
   "source": [
    "Nondels<-hrd_df[hrd_df$MutCat==\"BRCA1 inversion\"|hrd_df$MutCat==\"BRCA2 duplication\",]\n",
    "df<-sampleInfo[Nondels[,\"Sample\"],]\n",
    "df$HRD<-ifelse(df$HRDetect>0.7,\"HRD\",\"HRP\")\n",
    "df$whichBRCA<-ifelse(df$BRCA1status==\"None\",\"BRCA2\",ifelse(df$BRCA2status==\"None\",\"BRCA1\",\"both\"))\n"
   ]
  },
  {
   "cell_type": "code",
   "execution_count": 43,
   "metadata": {
    "collapsed": false
   },
   "outputs": [
    {
     "data": {
      "text/plain": [
       "     \n",
       "      Duplication spanning gene (COPY_GAIN) Inversion spanning gene (INV_SPAN)\n",
       "  HRD                                     1                                  3\n",
       "  HRP                                     5                                  3"
      ]
     },
     "metadata": {},
     "output_type": "display_data"
    }
   ],
   "source": [
    "table(df$HRD,df$BRCAstatus)"
   ]
  },
  {
   "cell_type": "markdown",
   "metadata": {},
   "source": [
    "In general, looks like HRD samples are those with inversions at BRCA1 and HRP are those with duplications at BRCA2. However, inversions at BRCA1 are split evenly between HRD and HRP."
   ]
  }
 ],
 "metadata": {
  "kernelspec": {
   "display_name": "R",
   "language": "R",
   "name": "ir"
  },
  "language_info": {
   "codemirror_mode": "r",
   "file_extension": ".r",
   "mimetype": "text/x-r-source",
   "name": "R",
   "pygments_lexer": "r",
   "version": "3.6.0"
  },
  "toc": {
   "nav_menu": {},
   "number_sections": false,
   "sideBar": true,
   "skip_h1_title": false,
   "toc_cell": false,
   "toc_position": {},
   "toc_section_display": "block",
   "toc_window_display": true
  }
 },
 "nbformat": 4,
 "nbformat_minor": 2
}
