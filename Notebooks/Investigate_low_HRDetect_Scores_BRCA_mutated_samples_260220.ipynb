{
 "cells": [
  {
   "cell_type": "markdown",
   "metadata": {},
   "source": [
    "# Investigating low HRDetect scores in BRCA mutation categories"
   ]
  },
  {
   "cell_type": "code",
   "execution_count": 1,
   "metadata": {
    "collapsed": false
   },
   "outputs": [],
   "source": [
    "rm(list=ls())\n",
    "#setwd(\"/Volumes/igmm/HGS-OvarianCancerA-SGP-WGS/BRCA1_BRCA2_SVs_paper/\")\n",
    "setwd(\"~/Desktop/BRCA1_BRCA2_SVs_paper/\")\n",
    "sampleInfo<-read.table(\"Manuscript/Intermediate_data/SampleInformation_full.txt\",sep=\"\\t\",header=T,stringsAsFactors=F)\n",
    "rownames(sampleInfo)<-sampleInfo[,1]\n",
    "\n",
    "sampleInfo[sampleInfo$BRCAstatus==\"None\" & sampleInfo$BRCA1_pro_meth==1,\"BRCAstatus\"]<-\"BRCA1 promoter methylation\"\n",
    "sampleInfo[sampleInfo$BRCAstatus==\"BRCA1 promoter methylation\",\"BRCAstatus_compound\"]<-\"BRCA1 promoter methylation\""
   ]
  },
  {
   "cell_type": "code",
   "execution_count": 2,
   "metadata": {
    "collapsed": false
   },
   "outputs": [],
   "source": [
    "dat<-sampleInfo[sampleInfo$BRCA1_pro_meth!=1,]\n"
   ]
  },
  {
   "cell_type": "code",
   "execution_count": 3,
   "metadata": {
    "collapsed": false
   },
   "outputs": [
    {
     "data": {
      "text/plain": [
       "\n",
       "             SNV_only     Germline SNV only      Somatic SNV only \n",
       "                   26                    15                    11 \n",
       "    Any deletion only       Single deletion       Double deletion \n",
       "                   27                    21                     6 \n",
       "Compound same or both         Compound same         Compound both \n",
       "                   15                     9                     6 \n",
       "           SV non_del  Promoter methylation                  None \n",
       "                   20                     9                    89 "
      ]
     },
     "metadata": {},
     "output_type": "display_data"
    }
   ],
   "source": [
    "#Make mutexclcategory\n",
    "hrd_snv_only<-dat[(dat$BRCAstatus==\"Germline SNV\"|dat$BRCAstatus==\"Somatic SNV\") & dat$BRCAstatus_SV=='SV absent'  ,\n",
    "   c(\"Sample\",\"HRDetect\")]\n",
    "df_1<-data.frame(MutCat=\"SNV_only\",hrd_snv_only,Col=\"SNV\")\n",
    "\n",
    "\n",
    "hrd_germSNV<-dat[(dat$BRCAstatus==\"Germline SNV\") & dat$BRCAstatus_SV=='SV absent'  ,\n",
    "   c(\"Sample\",\"HRDetect\")]\n",
    "df_2<-data.frame(MutCat=\"Germline SNV only\",hrd_germSNV,Col=\"SNV\")\n",
    "\n",
    "hrd_somSNV<-dat[(dat$BRCAstatus==\"Somatic SNV\") & dat$BRCAstatus_SV=='SV absent'  ,\n",
    "   c(\"Sample\",\"HRDetect\")]\n",
    "df_3<-data.frame(MutCat=\"Somatic SNV only\",hrd_somSNV,Col=\"SNV\")\n",
    "\n",
    "hrd_anydel<-dat[dat$BRCAstatus==\"Deletion overlapping exon (LOF)\"  ,\n",
    "    c(\"Sample\",\"HRDetect\")]\n",
    "df_4<-data.frame(MutCat=\"Any deletion only\",hrd_anydel,Col=\"Deletion\")\n",
    "\n",
    "hrd_singledel<-dat[(dat$BRCAstatus_SV==\"Single deletion\" & dat$BRCAstatus==\"Deletion overlapping exon (LOF)\"),\n",
    "                   c(\"Sample\",\"HRDetect\")]\n",
    "df_5<-data.frame(MutCat=\"Single deletion\",hrd_singledel,Col=\"Deletion\")\n",
    "\n",
    "hrd_doubledel<-dat[(dat$BRCAstatus_SV==\"Double deletion\" & dat$BRCAstatus==\"Deletion overlapping exon (LOF)\"),\n",
    "                   c(\"Sample\",\"HRDetect\")]\n",
    "df_6<-data.frame(MutCat=\"Double deletion\",hrd_doubledel,Col=\"Deletion\")\n",
    "\n",
    "hrd_sameorboth<-dat[((dat$BRCAstatus_compound==\"SNV + deletion (same gene)\")|\n",
    "                     (dat$BRCAstatus_compound==\"SNV + deletions (both genes)\"))\n",
    "  , c(\"Sample\",\"HRDetect\")]\n",
    "df_7<-data.frame(MutCat=\"Compound same or both\",hrd_sameorboth,Col=\"SNV + deletion\")\n",
    "\n",
    "hrd_same<-dat[((dat$BRCAstatus_compound==\"SNV + deletion (same gene)\"))\n",
    "  , c(\"Sample\",\"HRDetect\")]\n",
    "df_8<-data.frame(MutCat=\"Compound same\",hrd_same,Col=\"SNV + deletion\")\n",
    "\n",
    "hrd_both<-dat[((dat$BRCAstatus_compound==\"SNV + deletions (both genes)\"))\n",
    "  , c(\"Sample\",\"HRDetect\")]\n",
    "df_9<-data.frame(MutCat=\"Compound both\",hrd_both,Col=\"SNV + deletion\")\n",
    "\n",
    "hrd_nondel<-dat[(dat$BRCAstatus!=\"Germline SNV\" & dat$BRCAstatus!=\"Somatic SNV\" &\n",
    "     dat$BRCAstatus!=\"None\"& dat$BRCAstatus!=\"BRCA1 promoter methylation\" & dat$BRCAstatus!=\"Deletion overlapping exon (LOF)\" &\n",
    "     dat$BRCAstatus!=\"Complex combination of SV intervals including 1+ LOF (CPX: LOF)\" ) ,\n",
    "    c(\"Sample\",\"HRDetect\")]\n",
    "df_10<-data.frame(MutCat=\"SV non_del\",hrd_nondel,Col=\"Non-deletion SV\")\n",
    "\n",
    "hrd_methyl<-sampleInfo[sampleInfo$BRCAstatus == \"BRCA1 promoter methylation\",c(\"Sample\",\"HRDetect\")]\n",
    "df_11<-data.frame(MutCat=\"Promoter methylation\",hrd_methyl,Col=\"Methylation\")\n",
    "\n",
    "hrd_none<-dat[dat$BRCAstatus == \"None\",c(\"Sample\",\"HRDetect\")]\n",
    "df_12<-data.frame(MutCat=\"None\",hrd_none,Col=\"None\")\n",
    "\n",
    "hrd_df<-rbind(df_1,df_2,df_3,df_4,df_5,df_6,df_7,df_8,df_9,df_10,df_11,df_12)\n",
    "colnames(hrd_df)<-c(\"MutCat\",\"Sample\",\"HRDetect\",\"Col\")\n",
    "\n",
    "table(hrd_df$MutCat)\n"
   ]
  },
  {
   "cell_type": "markdown",
   "metadata": {},
   "source": [
    "## SNVs"
   ]
  },
  {
   "cell_type": "code",
   "execution_count": 4,
   "metadata": {
    "collapsed": false
   },
   "outputs": [
    {
     "data": {
      "text/html": [
       "<table>\n",
       "<caption>A data.frame: 5 × 4</caption>\n",
       "<thead>\n",
       "\t<tr><th></th><th scope=col>MutCat</th><th scope=col>Sample</th><th scope=col>HRDetect</th><th scope=col>Col</th></tr>\n",
       "\t<tr><th></th><th scope=col>&lt;fct&gt;</th><th scope=col>&lt;chr&gt;</th><th scope=col>&lt;dbl&gt;</th><th scope=col>&lt;fct&gt;</th></tr>\n",
       "</thead>\n",
       "<tbody>\n",
       "\t<tr><th scope=row>DO299801</th><td>Germline SNV only</td><td>DO29980  </td><td>0.24703519</td><td>SNV</td></tr>\n",
       "\t<tr><th scope=row>SHGSOC0431</th><td>Germline SNV only</td><td>SHGSOC043</td><td>0.17187388</td><td>SNV</td></tr>\n",
       "\t<tr><th scope=row>SHGSOC0511</th><td>Germline SNV only</td><td>SHGSOC051</td><td>0.01197738</td><td>SNV</td></tr>\n",
       "\t<tr><th scope=row>SHGSOC0591</th><td>Germline SNV only</td><td>SHGSOC059</td><td>0.09404727</td><td>SNV</td></tr>\n",
       "\t<tr><th scope=row>SHGSOC0111</th><td>Somatic SNV only </td><td>SHGSOC011</td><td>0.67814158</td><td>SNV</td></tr>\n",
       "</tbody>\n",
       "</table>\n"
      ],
      "text/latex": [
       "A data.frame: 5 × 4\n",
       "\\begin{tabular}{r|llll}\n",
       "  & MutCat & Sample & HRDetect & Col\\\\\n",
       "  & <fct> & <chr> & <dbl> & <fct>\\\\\n",
       "\\hline\n",
       "\tDO299801 & Germline SNV only & DO29980   & 0.24703519 & SNV\\\\\n",
       "\tSHGSOC0431 & Germline SNV only & SHGSOC043 & 0.17187388 & SNV\\\\\n",
       "\tSHGSOC0511 & Germline SNV only & SHGSOC051 & 0.01197738 & SNV\\\\\n",
       "\tSHGSOC0591 & Germline SNV only & SHGSOC059 & 0.09404727 & SNV\\\\\n",
       "\tSHGSOC0111 & Somatic SNV only  & SHGSOC011 & 0.67814158 & SNV\\\\\n",
       "\\end{tabular}\n"
      ],
      "text/markdown": [
       "\n",
       "A data.frame: 5 × 4\n",
       "\n",
       "| <!--/--> | MutCat &lt;fct&gt; | Sample &lt;chr&gt; | HRDetect &lt;dbl&gt; | Col &lt;fct&gt; |\n",
       "|---|---|---|---|---|\n",
       "| DO299801 | Germline SNV only | DO29980   | 0.24703519 | SNV |\n",
       "| SHGSOC0431 | Germline SNV only | SHGSOC043 | 0.17187388 | SNV |\n",
       "| SHGSOC0511 | Germline SNV only | SHGSOC051 | 0.01197738 | SNV |\n",
       "| SHGSOC0591 | Germline SNV only | SHGSOC059 | 0.09404727 | SNV |\n",
       "| SHGSOC0111 | Somatic SNV only  | SHGSOC011 | 0.67814158 | SNV |\n",
       "\n"
      ],
      "text/plain": [
       "           MutCat            Sample    HRDetect   Col\n",
       "DO299801   Germline SNV only DO29980   0.24703519 SNV\n",
       "SHGSOC0431 Germline SNV only SHGSOC043 0.17187388 SNV\n",
       "SHGSOC0511 Germline SNV only SHGSOC051 0.01197738 SNV\n",
       "SHGSOC0591 Germline SNV only SHGSOC059 0.09404727 SNV\n",
       "SHGSOC0111 Somatic SNV only  SHGSOC011 0.67814158 SNV"
      ]
     },
     "metadata": {},
     "output_type": "display_data"
    }
   ],
   "source": [
    "lowSNVs<-hrd_df[hrd_df$HRDetect<0.7 & hrd_df$Col==\"SNV\",]\n",
    "lowSNVs[6:10,]"
   ]
  },
  {
   "cell_type": "code",
   "execution_count": 5,
   "metadata": {
    "collapsed": false
   },
   "outputs": [
    {
     "name": "stdout",
     "output_type": "stream",
     "text": [
      "             Sample Cohort   BRCAstatus BRCA1status  BRCA2status BRCAstatus_SV\n",
      "DO29980     DO29980     DO Germline SNV        None Germline SNV     SV absent\n",
      "SHGSOC043 SHGSOC043     SH Germline SNV        None Germline SNV     SV absent\n",
      "SHGSOC051 SHGSOC051     SH Germline SNV        None Germline SNV     SV absent\n",
      "SHGSOC059 SHGSOC059     SH Germline SNV        None Germline SNV     SV absent\n",
      "SHGSOC011 SHGSOC011     SH  Somatic SNV Somatic SNV         None     SV absent\n",
      "          BRCA1status_SV BRCA2status_SV BRCA1status_compound\n",
      "DO29980        SV absent      SV absent                 None\n",
      "SHGSOC043      SV absent      SV absent                 None\n",
      "SHGSOC051      SV absent      SV absent                 None\n",
      "SHGSOC059      SV absent      SV absent                 None\n",
      "SHGSOC011      SV absent      SV absent             Excluded\n",
      "          BRCA2status_compound BRCAstatus_compound Double_del BRCA1_LOH\n",
      "DO29980               Excluded            Excluded       <NA>         1\n",
      "SHGSOC043             Excluded            Excluded       <NA>         1\n",
      "SHGSOC051             Excluded            Excluded       <NA>         1\n",
      "SHGSOC059             Excluded            Excluded       <NA>         1\n",
      "SHGSOC011                 None            Excluded       <NA>         1\n",
      "          BRCA2_LOH BRCA1_pro_meth non_BRCA_HR_Germline_SNV\n",
      "DO29980           1              0                        0\n",
      "SHGSOC043         0              0                        1\n",
      "SHGSOC051         1              0                        0\n",
      "SHGSOC059         1              0                        0\n",
      "SHGSOC011         0              0                        0\n",
      "          non_BRCA_HR_Somatic_SNV BRCA1_VST BRCA2_VST Facets_WGD_score WGD\n",
      "DO29980                         0        NA        NA            0.837   1\n",
      "SHGSOC043                       0  11.71779  9.958691            0.154   0\n",
      "SHGSOC051                       0  10.14895  9.267225            0.623   1\n",
      "SHGSOC059                       0        NA        NA            0.908   1\n",
      "SHGSOC011                       0        NA        NA            0.278   0\n",
      "            Purity AvPloidy Mutational_load SV_load CNV_load  ReSig_3  ReSig_5\n",
      "DO29980   0.636788 2.967726            6143     201      144  0.00000 36.04593\n",
      "SHGSOC043 0.152745 1.789892           12237     346        8  0.00000  0.00000\n",
      "SHGSOC051 0.467535 2.704659            7992     430      144  0.00000  0.00000\n",
      "SHGSOC059 0.530404 3.075450           24722     947      146  0.00000  0.00000\n",
      "SHGSOC011 0.559782 4.018794           35554     236       99 47.48629  0.00000\n",
      "            HRDetect BARD1_VST RAD50_VST  NBN_VST MRE11_VST RAD51B_VST\n",
      "DO29980   0.24703519        NA        NA       NA        NA         NA\n",
      "SHGSOC043 0.17187388  11.97256  12.45725 11.14661  12.08850  11.036204\n",
      "SHGSOC051 0.01197738  10.26587  11.24952 12.55225  11.43756   8.897394\n",
      "SHGSOC059 0.09404727        NA        NA       NA        NA         NA\n",
      "SHGSOC011 0.67814158        NA        NA       NA        NA         NA\n",
      "          RAD51_VST PALB2_VST RAD51D_VST RAD51C_VST BRIP1_VST\n",
      "DO29980          NA        NA         NA         NA        NA\n",
      "SHGSOC043  8.172335  9.811522   9.563736   9.139030  11.61966\n",
      "SHGSOC051  6.975852  9.749639   9.598710   8.987828  10.30819\n",
      "SHGSOC059        NA        NA         NA         NA        NA\n",
      "SHGSOC011        NA        NA         NA         NA        NA\n"
     ]
    }
   ],
   "source": [
    "print(sampleInfo[lowSNVs[6:10,\"Sample\"],])"
   ]
  },
  {
   "cell_type": "markdown",
   "metadata": {},
   "source": [
    "For SHGSOC043 there's no evidence of LOH. For SHGSOC011 with a somatic variant it has a HRDetect score very close to the threshold so possibly borderline? For the other three there's no evidence of the tumour having a lower proportion of WT supporting reads than the normal. Loss of the variant allele?\n",
    "\n",
    "These variants are 2 germline frameshift (SHGSOC043, SHGSOC051) and 2 germline missense in BRCA2 (DO29980, SHGSOC059) and 1 somatic frameshift in BRCA1 (SHGSOC011)."
   ]
  },
  {
   "cell_type": "markdown",
   "metadata": {},
   "source": [
    "## Deletions"
   ]
  },
  {
   "cell_type": "code",
   "execution_count": 8,
   "metadata": {
    "collapsed": false
   },
   "outputs": [],
   "source": [
    "Dels<-hrd_df[hrd_df$MutCat==\"Single deletion\",]\n",
    "df<-sampleInfo[Dels[,\"Sample\"],]\n",
    "df$HRD<-ifelse(df$HRDetect>0.7,\"HRD\",\"HRP\")\n",
    "df$whichBRCA<-ifelse(df$BRCA1status==\"Deletion overlapping exon (LOF)\",\"BRCA1\",\"BRCA2\")\n"
   ]
  },
  {
   "cell_type": "code",
   "execution_count": 9,
   "metadata": {
    "collapsed": false
   },
   "outputs": [
    {
     "data": {
      "text/html": [
       "<ol class=list-inline>\n",
       "\t<li>'Sample'</li>\n",
       "\t<li>'Cohort'</li>\n",
       "\t<li>'BRCAstatus'</li>\n",
       "\t<li>'BRCA1status'</li>\n",
       "\t<li>'BRCA2status'</li>\n",
       "\t<li>'BRCAstatus_SV'</li>\n",
       "\t<li>'BRCA1status_SV'</li>\n",
       "\t<li>'BRCA2status_SV'</li>\n",
       "\t<li>'BRCA1status_compound'</li>\n",
       "\t<li>'BRCA2status_compound'</li>\n",
       "\t<li>'BRCAstatus_compound'</li>\n",
       "\t<li>'Double_del'</li>\n",
       "\t<li>'BRCA1_LOH'</li>\n",
       "\t<li>'BRCA2_LOH'</li>\n",
       "\t<li>'BRCA1_pro_meth'</li>\n",
       "\t<li>'non_BRCA_HR_Germline_SNV'</li>\n",
       "\t<li>'non_BRCA_HR_Somatic_SNV'</li>\n",
       "\t<li>'BRCA1_VST'</li>\n",
       "\t<li>'BRCA2_VST'</li>\n",
       "\t<li>'Facets_WGD_score'</li>\n",
       "\t<li>'WGD'</li>\n",
       "\t<li>'Purity'</li>\n",
       "\t<li>'AvPloidy'</li>\n",
       "\t<li>'Mutational_load'</li>\n",
       "\t<li>'SV_load'</li>\n",
       "\t<li>'CNV_load'</li>\n",
       "\t<li>'ReSig_3'</li>\n",
       "\t<li>'ReSig_5'</li>\n",
       "\t<li>'HRDetect'</li>\n",
       "\t<li>'BARD1_VST'</li>\n",
       "\t<li>'RAD50_VST'</li>\n",
       "\t<li>'NBN_VST'</li>\n",
       "\t<li>'MRE11_VST'</li>\n",
       "\t<li>'RAD51B_VST'</li>\n",
       "\t<li>'RAD51_VST'</li>\n",
       "\t<li>'PALB2_VST'</li>\n",
       "\t<li>'RAD51D_VST'</li>\n",
       "\t<li>'RAD51C_VST'</li>\n",
       "\t<li>'BRIP1_VST'</li>\n",
       "\t<li>'HRD'</li>\n",
       "\t<li>'whichBRCA'</li>\n",
       "</ol>\n"
      ],
      "text/latex": [
       "\\begin{enumerate*}\n",
       "\\item 'Sample'\n",
       "\\item 'Cohort'\n",
       "\\item 'BRCAstatus'\n",
       "\\item 'BRCA1status'\n",
       "\\item 'BRCA2status'\n",
       "\\item 'BRCAstatus\\_SV'\n",
       "\\item 'BRCA1status\\_SV'\n",
       "\\item 'BRCA2status\\_SV'\n",
       "\\item 'BRCA1status\\_compound'\n",
       "\\item 'BRCA2status\\_compound'\n",
       "\\item 'BRCAstatus\\_compound'\n",
       "\\item 'Double\\_del'\n",
       "\\item 'BRCA1\\_LOH'\n",
       "\\item 'BRCA2\\_LOH'\n",
       "\\item 'BRCA1\\_pro\\_meth'\n",
       "\\item 'non\\_BRCA\\_HR\\_Germline\\_SNV'\n",
       "\\item 'non\\_BRCA\\_HR\\_Somatic\\_SNV'\n",
       "\\item 'BRCA1\\_VST'\n",
       "\\item 'BRCA2\\_VST'\n",
       "\\item 'Facets\\_WGD\\_score'\n",
       "\\item 'WGD'\n",
       "\\item 'Purity'\n",
       "\\item 'AvPloidy'\n",
       "\\item 'Mutational\\_load'\n",
       "\\item 'SV\\_load'\n",
       "\\item 'CNV\\_load'\n",
       "\\item 'ReSig\\_3'\n",
       "\\item 'ReSig\\_5'\n",
       "\\item 'HRDetect'\n",
       "\\item 'BARD1\\_VST'\n",
       "\\item 'RAD50\\_VST'\n",
       "\\item 'NBN\\_VST'\n",
       "\\item 'MRE11\\_VST'\n",
       "\\item 'RAD51B\\_VST'\n",
       "\\item 'RAD51\\_VST'\n",
       "\\item 'PALB2\\_VST'\n",
       "\\item 'RAD51D\\_VST'\n",
       "\\item 'RAD51C\\_VST'\n",
       "\\item 'BRIP1\\_VST'\n",
       "\\item 'HRD'\n",
       "\\item 'whichBRCA'\n",
       "\\end{enumerate*}\n"
      ],
      "text/markdown": [
       "1. 'Sample'\n",
       "2. 'Cohort'\n",
       "3. 'BRCAstatus'\n",
       "4. 'BRCA1status'\n",
       "5. 'BRCA2status'\n",
       "6. 'BRCAstatus_SV'\n",
       "7. 'BRCA1status_SV'\n",
       "8. 'BRCA2status_SV'\n",
       "9. 'BRCA1status_compound'\n",
       "10. 'BRCA2status_compound'\n",
       "11. 'BRCAstatus_compound'\n",
       "12. 'Double_del'\n",
       "13. 'BRCA1_LOH'\n",
       "14. 'BRCA2_LOH'\n",
       "15. 'BRCA1_pro_meth'\n",
       "16. 'non_BRCA_HR_Germline_SNV'\n",
       "17. 'non_BRCA_HR_Somatic_SNV'\n",
       "18. 'BRCA1_VST'\n",
       "19. 'BRCA2_VST'\n",
       "20. 'Facets_WGD_score'\n",
       "21. 'WGD'\n",
       "22. 'Purity'\n",
       "23. 'AvPloidy'\n",
       "24. 'Mutational_load'\n",
       "25. 'SV_load'\n",
       "26. 'CNV_load'\n",
       "27. 'ReSig_3'\n",
       "28. 'ReSig_5'\n",
       "29. 'HRDetect'\n",
       "30. 'BARD1_VST'\n",
       "31. 'RAD50_VST'\n",
       "32. 'NBN_VST'\n",
       "33. 'MRE11_VST'\n",
       "34. 'RAD51B_VST'\n",
       "35. 'RAD51_VST'\n",
       "36. 'PALB2_VST'\n",
       "37. 'RAD51D_VST'\n",
       "38. 'RAD51C_VST'\n",
       "39. 'BRIP1_VST'\n",
       "40. 'HRD'\n",
       "41. 'whichBRCA'\n",
       "\n",
       "\n"
      ],
      "text/plain": [
       " [1] \"Sample\"                   \"Cohort\"                  \n",
       " [3] \"BRCAstatus\"               \"BRCA1status\"             \n",
       " [5] \"BRCA2status\"              \"BRCAstatus_SV\"           \n",
       " [7] \"BRCA1status_SV\"           \"BRCA2status_SV\"          \n",
       " [9] \"BRCA1status_compound\"     \"BRCA2status_compound\"    \n",
       "[11] \"BRCAstatus_compound\"      \"Double_del\"              \n",
       "[13] \"BRCA1_LOH\"                \"BRCA2_LOH\"               \n",
       "[15] \"BRCA1_pro_meth\"           \"non_BRCA_HR_Germline_SNV\"\n",
       "[17] \"non_BRCA_HR_Somatic_SNV\"  \"BRCA1_VST\"               \n",
       "[19] \"BRCA2_VST\"                \"Facets_WGD_score\"        \n",
       "[21] \"WGD\"                      \"Purity\"                  \n",
       "[23] \"AvPloidy\"                 \"Mutational_load\"         \n",
       "[25] \"SV_load\"                  \"CNV_load\"                \n",
       "[27] \"ReSig_3\"                  \"ReSig_5\"                 \n",
       "[29] \"HRDetect\"                 \"BARD1_VST\"               \n",
       "[31] \"RAD50_VST\"                \"NBN_VST\"                 \n",
       "[33] \"MRE11_VST\"                \"RAD51B_VST\"              \n",
       "[35] \"RAD51_VST\"                \"PALB2_VST\"               \n",
       "[37] \"RAD51D_VST\"               \"RAD51C_VST\"              \n",
       "[39] \"BRIP1_VST\"                \"HRD\"                     \n",
       "[41] \"whichBRCA\"               "
      ]
     },
     "metadata": {},
     "output_type": "display_data"
    }
   ],
   "source": [
    "names(df)\n",
    "vars_toconsider<-c(\"Facets_WGD_score\",\"Purity\",\"AvPloidy\",\"Mutational_load\",\"SV_load\",\"CNV_load\",\"BRCA1_VST\",\"BRCA2_VST\")\n",
    "cat<-c(\"whichBRCA\",\"WGD\")"
   ]
  },
  {
   "cell_type": "code",
   "execution_count": 10,
   "metadata": {
    "collapsed": false
   },
   "outputs": [
    {
     "data": {
      "text/plain": [
       "       \n",
       "        HRD HRP\n",
       "  BRCA1   2  10\n",
       "  BRCA2   4   5"
      ]
     },
     "metadata": {},
     "output_type": "display_data"
    }
   ],
   "source": [
    "table(df$whichBRCA,df$HRD)"
   ]
  },
  {
   "cell_type": "code",
   "execution_count": 14,
   "metadata": {
    "collapsed": false
   },
   "outputs": [
    {
     "data": {
      "text/plain": [
       "\n",
       "\tFisher's Exact Test for Count Data\n",
       "\n",
       "data:  table(df$whichBRCA, df$HRD)\n",
       "p-value = 0.331\n",
       "alternative hypothesis: true odds ratio is not equal to 1\n",
       "95 percent confidence interval:\n",
       " 0.01818097 2.63439239\n",
       "sample estimates:\n",
       "odds ratio \n",
       " 0.2684667 \n"
      ]
     },
     "metadata": {},
     "output_type": "display_data"
    }
   ],
   "source": [
    "fisher.test(table(df$whichBRCA,df$HRD))"
   ]
  },
  {
   "cell_type": "code",
   "execution_count": 11,
   "metadata": {
    "collapsed": false
   },
   "outputs": [
    {
     "name": "stdout",
     "output_type": "stream",
     "text": [
      "[1] \"Facets_WGD_score\"\n",
      "\n",
      "\tWilcoxon rank sum test\n",
      "\n",
      "data:  df[, i] by df$HRD\n",
      "W = 63, p-value = 0.1781\n",
      "alternative hypothesis: true location shift is not equal to 0\n",
      "\n",
      "[1] \"Purity\"\n",
      "\n",
      "\tWilcoxon rank sum test\n",
      "\n",
      "data:  df[, i] by df$HRD\n",
      "W = 10, p-value = 0.004607\n",
      "alternative hypothesis: true location shift is not equal to 0\n",
      "\n",
      "[1] \"AvPloidy\"\n",
      "\n",
      "\tWilcoxon rank sum test\n",
      "\n",
      "data:  df[, i] by df$HRD\n",
      "W = 57, p-value = 0.3809\n",
      "alternative hypothesis: true location shift is not equal to 0\n",
      "\n",
      "[1] \"Mutational_load\"\n",
      "\n",
      "\tWilcoxon rank sum test\n",
      "\n",
      "data:  df[, i] by df$HRD\n",
      "W = 73, p-value = 0.02926\n",
      "alternative hypothesis: true location shift is not equal to 0\n",
      "\n",
      "[1] \"SV_load\"\n"
     ]
    },
    {
     "name": "stderr",
     "output_type": "stream",
     "text": [
      "Warning message in wilcox.test.default(x = c(173L, 403L, 267L, 279L, 627L, 520L), :\n",
      "“cannot compute exact p-value with ties”"
     ]
    },
    {
     "name": "stdout",
     "output_type": "stream",
     "text": [
      "\n",
      "\tWilcoxon rank sum test with continuity correction\n",
      "\n",
      "data:  df[, i] by df$HRD\n",
      "W = 57, p-value = 0.3705\n",
      "alternative hypothesis: true location shift is not equal to 0\n",
      "\n",
      "[1] \"CNV_load\"\n"
     ]
    },
    {
     "name": "stderr",
     "output_type": "stream",
     "text": [
      "Warning message in wilcox.test.default(x = c(262L, 345L, 228L, 81L, 173L, 288L), :\n",
      "“cannot compute exact p-value with ties”"
     ]
    },
    {
     "name": "stdout",
     "output_type": "stream",
     "text": [
      "\n",
      "\tWilcoxon rank sum test with continuity correction\n",
      "\n",
      "data:  df[, i] by df$HRD\n",
      "W = 57, p-value = 0.3703\n",
      "alternative hypothesis: true location shift is not equal to 0\n",
      "\n",
      "[1] \"BRCA1_VST\"\n",
      "\n",
      "\tWilcoxon rank sum test\n",
      "\n",
      "data:  df[, i] by df$HRD\n",
      "W = 20, p-value = 1\n",
      "alternative hypothesis: true location shift is not equal to 0\n",
      "\n",
      "[1] \"BRCA2_VST\"\n",
      "\n",
      "\tWilcoxon rank sum test\n",
      "\n",
      "data:  df[, i] by df$HRD\n",
      "W = 18, p-value = 0.8392\n",
      "alternative hypothesis: true location shift is not equal to 0\n",
      "\n"
     ]
    }
   ],
   "source": [
    "for (i in vars_toconsider){\n",
    "    print(i)\n",
    "    print(wilcox.test(df[,i] ~ df$HRD))\n",
    "}"
   ]
  },
  {
   "cell_type": "markdown",
   "metadata": {},
   "source": [
    "### Expression"
   ]
  },
  {
   "cell_type": "code",
   "execution_count": 12,
   "metadata": {
    "collapsed": false
   },
   "outputs": [
    {
     "data": {
      "text/plain": [
       "\n",
       "\tWilcoxon rank sum test\n",
       "\n",
       "data:  df_brca1$BRCA1_VST by df_brca1$HRD\n",
       "W = 6, p-value = 1\n",
       "alternative hypothesis: true location shift is not equal to 0\n"
      ]
     },
     "metadata": {},
     "output_type": "display_data"
    },
    {
     "data": {
      "text/plain": [
       "\n",
       "\tWilcoxon rank sum test\n",
       "\n",
       "data:  df_brca2$BRCA2_VST by df_brca2$HRD\n",
       "W = 5, p-value = 0.8\n",
       "alternative hypothesis: true location shift is not equal to 0\n"
      ]
     },
     "metadata": {},
     "output_type": "display_data"
    }
   ],
   "source": [
    "df_brca1<-df[df$whichBRCA==\"BRCA1\",]\n",
    "wilcox.test(df_brca1$BRCA1_VST ~ df_brca1$HRD)\n",
    "\n",
    "df_brca2<-df[df$whichBRCA==\"BRCA2\",]\n",
    "wilcox.test(df_brca2$BRCA2_VST ~ df_brca2$HRD)\n"
   ]
  },
  {
   "cell_type": "markdown",
   "metadata": {},
   "source": [
    "### Cellularity"
   ]
  },
  {
   "cell_type": "code",
   "execution_count": 13,
   "metadata": {
    "collapsed": false
   },
   "outputs": [
    {
     "data": {
      "image/png": "[encoded data removed]",
      "text/plain": [
       "plot without title"
      ]
     },
     "metadata": {},
     "output_type": "display_data"
    }
   ],
   "source": [
    "library(ggplot2)\n",
    "options(repr.plot.width=4,repr.plot.height=4)\n",
    "ggplot(df,aes(x=as.factor(HRD),y=Purity))+geom_boxplot()+geom_jitter()\n"
   ]
  },
  {
   "cell_type": "code",
   "execution_count": 148,
   "metadata": {
    "collapsed": false
   },
   "outputs": [
    {
     "data": {
      "image/png": "[encoded data removed]",
      "text/plain": [
       "plot without title"
      ]
     },
     "metadata": {},
     "output_type": "display_data"
    }
   ],
   "source": [
    "library(ggplot2)\n",
    "df<-sampleInfo[hrd_df[,\"Sample\"],]\n",
    "df2<-merge(df,hrd_df[,c(\"Sample\",\"Col\")],by=\"Sample\")\n",
    "\n",
    "df2$HRD<-ifelse(df2$HRDetect>0.7,1,0)\n",
    "\n",
    "ggplot(df2,aes(x=as.factor(HRD),y=Purity))+geom_boxplot()+facet_wrap(Col~.)"
   ]
  },
  {
   "cell_type": "code",
   "execution_count": 149,
   "metadata": {
    "collapsed": false
   },
   "outputs": [
    {
     "data": {
      "text/plain": [
       "\n",
       "             SNV_only     Germline SNV only      Somatic SNV only \n",
       "                   26                    15                    11 \n",
       "    Any deletion only       Single deletion       Double deletion \n",
       "                   27                    21                     6 \n",
       "Compound same or both         Compound same         Compound both \n",
       "                   15                     9                     6 \n",
       "           SV non_del  Promoter methylation                  None \n",
       "                   20                     9                    89 "
      ]
     },
     "metadata": {},
     "output_type": "display_data"
    }
   ],
   "source": [
    "table(hrd_df$MutCat)"
   ]
  },
  {
   "cell_type": "markdown",
   "metadata": {},
   "source": [
    "The number of double deletions is too small to adjust for covariates. However, if we adjust for cellularity in all deletions and single deletions then it is not informative to the model."
   ]
  },
  {
   "cell_type": "code",
   "execution_count": 150,
   "metadata": {
    "collapsed": false
   },
   "outputs": [
    {
     "data": {
      "text/plain": [
       "\n",
       "Call:\n",
       "glm(formula = as.factor(singledels$HRD) ~ as.factor(singledels$MutCat) + \n",
       "    singledels$Purity, family = \"binomial\")\n",
       "\n",
       "Deviance Residuals: \n",
       "    Min       1Q   Median       3Q      Max  \n",
       "-1.1679  -0.8786  -0.7286   1.2702   1.7911  \n",
       "\n",
       "Coefficients:\n",
       "                                              Estimate Std. Error z value\n",
       "(Intercept)                                     0.1082     0.6703   0.161\n",
       "as.factor(singledels$MutCat)Any deletion only   0.9078     0.4755   1.909\n",
       "singledels$Purity                              -1.7001     1.0392  -1.636\n",
       "                                              Pr(>|z|)  \n",
       "(Intercept)                                     0.8717  \n",
       "as.factor(singledels$MutCat)Any deletion only   0.0563 .\n",
       "singledels$Purity                               0.1018  \n",
       "---\n",
       "Signif. codes:  0 ‘***’ 0.001 ‘**’ 0.01 ‘*’ 0.05 ‘.’ 0.1 ‘ ’ 1\n",
       "\n",
       "(Dispersion parameter for binomial family taken to be 1)\n",
       "\n",
       "    Null deviance: 145.25  on 115  degrees of freedom\n",
       "Residual deviance: 140.11  on 113  degrees of freedom\n",
       "AIC: 146.11\n",
       "\n",
       "Number of Fisher Scoring iterations: 4\n"
      ]
     },
     "metadata": {},
     "output_type": "display_data"
    }
   ],
   "source": [
    "hrd_df$HRD<-ifelse(hrd_df$HRDetect>0.7,\"HRD\",\"HRP\")\n",
    "\n",
    "hrd_df2<-merge(hrd_df,sampleInfo[,c(\"Sample\",\"Purity\")],by=\"Sample\")\n",
    "\n",
    "\n",
    "singledels<-hrd_df2[hrd_df2$MutCat==\"Any deletion only\" | hrd_df2$MutCat==\"None\",]\n",
    "\n",
    "singledels$HRD<-as.factor(singledels$HRD)\n",
    "singledels$HRD <- relevel(singledels$HRD, ref = \"HRP\")\n",
    "singledels$MutCat<-as.factor(singledels$MutCat)\n",
    "singledels$MutCat <- relevel(singledels$MutCat, ref = \"None\")\n",
    "summary(glm(as.factor(singledels$HRD)~as.factor(singledels$MutCat)+singledels$Purity,family=\"binomial\"))"
   ]
  },
  {
   "cell_type": "markdown",
   "metadata": {},
   "source": []
  },
  {
   "cell_type": "code",
   "execution_count": 151,
   "metadata": {
    "collapsed": false
   },
   "outputs": [
    {
     "data": {
      "text/plain": [
       "\n",
       "Call:\n",
       "glm(formula = as.factor(singledels$MutCat) ~ singledels$Purity, \n",
       "    family = \"binomial\")\n",
       "\n",
       "Deviance Residuals: \n",
       "    Min       1Q   Median       3Q      Max  \n",
       "-1.0021  -0.7845  -0.6550  -0.3653   2.0313  \n",
       "\n",
       "Coefficients:\n",
       "                  Estimate Std. Error z value Pr(>|z|)   \n",
       "(Intercept)         -3.257      1.004  -3.243  0.00118 **\n",
       "singledels$Purity    3.012      1.372   2.196  0.02812 * \n",
       "---\n",
       "Signif. codes:  0 ‘***’ 0.001 ‘**’ 0.01 ‘*’ 0.05 ‘.’ 0.1 ‘ ’ 1\n",
       "\n",
       "(Dispersion parameter for binomial family taken to be 1)\n",
       "\n",
       "    Null deviance: 125.88  on 115  degrees of freedom\n",
       "Residual deviance: 120.16  on 114  degrees of freedom\n",
       "AIC: 124.16\n",
       "\n",
       "Number of Fisher Scoring iterations: 4\n"
      ]
     },
     "metadata": {},
     "output_type": "display_data"
    }
   ],
   "source": [
    "hrd_df$HRD<-ifelse(hrd_df$HRDetect>0.7,\"HRD\",\"HRP\")\n",
    "\n",
    "hrd_df2<-merge(hrd_df,sampleInfo[,c(\"Sample\",\"Purity\")],by=\"Sample\")\n",
    "\n",
    "\n",
    "singledels<-hrd_df2[hrd_df2$MutCat==\"Any deletion only\" | hrd_df2$MutCat==\"None\",]\n",
    "\n",
    "singledels$HRD<-as.factor(singledels$HRD)\n",
    "singledels$HRD <- relevel(singledels$HRD, ref = \"HRP\")\n",
    "singledels$MutCat<-as.factor(singledels$MutCat)\n",
    "singledels$MutCat <- relevel(singledels$MutCat, ref = \"None\")\n",
    "summary(glm(as.factor(singledels$MutCat)~singledels$Purity,family=\"binomial\"))"
   ]
  },
  {
   "cell_type": "code",
   "execution_count": 152,
   "metadata": {
    "collapsed": false
   },
   "outputs": [
    {
     "data": {
      "image/png": "[encoded data removed]",
      "text/plain": [
       "plot without title"
      ]
     },
     "metadata": {},
     "output_type": "display_data"
    }
   ],
   "source": [
    "options(repr.plot.width=4,repr.plot.height=4)\n",
    "ggplot(singledels,aes(x=MutCat,y=Purity))+geom_boxplot()"
   ]
  },
  {
   "cell_type": "markdown",
   "metadata": {},
   "source": [
    "Samples with BRCA1/2 deletions have higher cellularity.\n"
   ]
  },
  {
   "cell_type": "code",
   "execution_count": 153,
   "metadata": {
    "collapsed": false
   },
   "outputs": [
    {
     "data": {
      "text/plain": [
       "\n",
       "Call:\n",
       "glm(formula = as.factor(sampleInfo$HRD) ~ sampleInfo$Purity, \n",
       "    family = \"binomial\")\n",
       "\n",
       "Deviance Residuals: \n",
       "    Min       1Q   Median       3Q      Max  \n",
       "-3.2452   0.0851   0.0994   0.1106   0.1275  \n",
       "\n",
       "Coefficients:\n",
       "                  Estimate Std. Error z value Pr(>|z|)\n",
       "(Intercept)          6.735      4.691   1.436    0.151\n",
       "sampleInfo$Purity   -2.050      6.376  -0.322    0.748\n",
       "\n",
       "(Dispersion parameter for binomial family taken to be 1)\n",
       "\n",
       "    Null deviance: 12.641  on 204  degrees of freedom\n",
       "Residual deviance: 12.526  on 203  degrees of freedom\n",
       "AIC: 16.526\n",
       "\n",
       "Number of Fisher Scoring iterations: 8\n"
      ]
     },
     "metadata": {},
     "output_type": "display_data"
    }
   ],
   "source": [
    "summary(glm(as.factor(sampleInfo$HRD)~sampleInfo$Purity,family=\"binomial\"))"
   ]
  },
  {
   "cell_type": "code",
   "execution_count": 154,
   "metadata": {
    "collapsed": false
   },
   "outputs": [
    {
     "data": {
      "text/html": [
       "<table>\n",
       "<caption>A data.frame: 6 × 3</caption>\n",
       "<thead>\n",
       "\t<tr><th></th><th scope=col>Sample</th><th scope=col>HRDetect</th><th scope=col>Purity</th></tr>\n",
       "\t<tr><th></th><th scope=col>&lt;chr&gt;</th><th scope=col>&lt;dbl&gt;</th><th scope=col>&lt;dbl&gt;</th></tr>\n",
       "</thead>\n",
       "<tbody>\n",
       "\t<tr><th scope=row>AOCS_114</th><td>AOCS_114 </td><td>0.9999054</td><td>0.800303</td></tr>\n",
       "\t<tr><th scope=row>AOCS_148</th><td>AOCS_148 </td><td>0.9993638</td><td>0.813065</td></tr>\n",
       "\t<tr><th scope=row>DO31769</th><td>DO31769  </td><td>0.9987108</td><td>0.829078</td></tr>\n",
       "\t<tr><th scope=row>SHGSOC034</th><td>SHGSOC034</td><td>0.9999448</td><td>0.608479</td></tr>\n",
       "\t<tr><th scope=row>SHGSOC067</th><td>SHGSOC067</td><td>0.8944988</td><td>0.523014</td></tr>\n",
       "\t<tr><th scope=row>SHGSOC102</th><td>SHGSOC102</td><td>0.9990781</td><td>0.862935</td></tr>\n",
       "</tbody>\n",
       "</table>\n"
      ],
      "text/latex": [
       "A data.frame: 6 × 3\n",
       "\\begin{tabular}{r|lll}\n",
       "  & Sample & HRDetect & Purity\\\\\n",
       "  & <chr> & <dbl> & <dbl>\\\\\n",
       "\\hline\n",
       "\tAOCS\\_114 & AOCS\\_114  & 0.9999054 & 0.800303\\\\\n",
       "\tAOCS\\_148 & AOCS\\_148  & 0.9993638 & 0.813065\\\\\n",
       "\tDO31769 & DO31769   & 0.9987108 & 0.829078\\\\\n",
       "\tSHGSOC034 & SHGSOC034 & 0.9999448 & 0.608479\\\\\n",
       "\tSHGSOC067 & SHGSOC067 & 0.8944988 & 0.523014\\\\\n",
       "\tSHGSOC102 & SHGSOC102 & 0.9990781 & 0.862935\\\\\n",
       "\\end{tabular}\n"
      ],
      "text/markdown": [
       "\n",
       "A data.frame: 6 × 3\n",
       "\n",
       "| <!--/--> | Sample &lt;chr&gt; | HRDetect &lt;dbl&gt; | Purity &lt;dbl&gt; |\n",
       "|---|---|---|---|\n",
       "| AOCS_114 | AOCS_114  | 0.9999054 | 0.800303 |\n",
       "| AOCS_148 | AOCS_148  | 0.9993638 | 0.813065 |\n",
       "| DO31769 | DO31769   | 0.9987108 | 0.829078 |\n",
       "| SHGSOC034 | SHGSOC034 | 0.9999448 | 0.608479 |\n",
       "| SHGSOC067 | SHGSOC067 | 0.8944988 | 0.523014 |\n",
       "| SHGSOC102 | SHGSOC102 | 0.9990781 | 0.862935 |\n",
       "\n"
      ],
      "text/plain": [
       "          Sample    HRDetect  Purity  \n",
       "AOCS_114  AOCS_114  0.9999054 0.800303\n",
       "AOCS_148  AOCS_148  0.9993638 0.813065\n",
       "DO31769   DO31769   0.9987108 0.829078\n",
       "SHGSOC034 SHGSOC034 0.9999448 0.608479\n",
       "SHGSOC067 SHGSOC067 0.8944988 0.523014\n",
       "SHGSOC102 SHGSOC102 0.9990781 0.862935"
      ]
     },
     "metadata": {},
     "output_type": "display_data"
    }
   ],
   "source": [
    "s<-hrd_df[hrd_df$MutCat==\"Double deletion\",\"Sample\"]\n",
    "sampleInfo[s,c(\"Sample\",\"HRDetect\",\"Purity\")]"
   ]
  },
  {
   "cell_type": "markdown",
   "metadata": {},
   "source": [
    "### Mutational load"
   ]
  },
  {
   "cell_type": "code",
   "execution_count": 155,
   "metadata": {
    "collapsed": true
   },
   "outputs": [],
   "source": [
    "Dels<-hrd_df[hrd_df$MutCat==\"Any deletion only\",]\n",
    "df<-sampleInfo[Dels[,\"Sample\"],]\n",
    "df$HRD<-ifelse(df$HRDetect>0.7,\"HRD\",\"HRP\")\n",
    "df$whichBRCA<-ifelse(df$BRCA1status==\"Deletion overlapping exon (LOF)\",\"BRCA1\",\"BRCA2\")\n"
   ]
  },
  {
   "cell_type": "code",
   "execution_count": 156,
   "metadata": {
    "collapsed": false
   },
   "outputs": [
    {
     "data": {
      "image/png": "[encoded data removed]",
      "text/plain": [
       "plot without title"
      ]
     },
     "metadata": {},
     "output_type": "display_data"
    }
   ],
   "source": [
    "options(repr.plot.width=4,repr.plot.height=4)\n",
    "ggplot(df,aes(x=HRD,y=Mutational_load))+geom_boxplot()"
   ]
  },
  {
   "cell_type": "markdown",
   "metadata": {},
   "source": [
    "## Non-deletion SVs"
   ]
  },
  {
   "cell_type": "code",
   "execution_count": 179,
   "metadata": {
    "collapsed": true
   },
   "outputs": [],
   "source": [
    "Nondels<-hrd_df[hrd_df$MutCat==\"SV non_del\",]\n",
    "df<-sampleInfo[Nondels[,\"Sample\"],]\n",
    "df$HRD<-ifelse(df$HRDetect>0.7,\"HRD\",\"HRP\")\n",
    "df$whichBRCA<-ifelse(df$BRCA1status==\"None\",\"BRCA2\",ifelse(df$BRCA2status==\"None\",\"BRCA1\",\"both\"))\n"
   ]
  },
  {
   "cell_type": "code",
   "execution_count": 180,
   "metadata": {
    "collapsed": false
   },
   "outputs": [
    {
     "data": {
      "text/plain": [
       "     \n",
       "      Complex combination of SVs without LOF\n",
       "  HRD                                      1\n",
       "  HRP                                      3\n",
       "     \n",
       "      Duplication spanning gene (COPY_GAIN) Inversion spanning gene (INV_SPAN)\n",
       "  HRD                                     1                                  6\n",
       "  HRP                                     5                                  3\n",
       "     \n",
       "      SV without LOF\n",
       "  HRD              1\n",
       "  HRP              0"
      ]
     },
     "metadata": {},
     "output_type": "display_data"
    },
    {
     "data": {
      "text/plain": [
       "\n",
       "\tFisher's Exact Test for Count Data\n",
       "\n",
       "data:  matrix(c(1, 3, 5, 3), byrow = T, nrow = 2)\n",
       "p-value = 0.5455\n",
       "alternative hypothesis: true odds ratio is not equal to 1\n",
       "95 percent confidence interval:\n",
       " 0.00319446 4.50042353\n",
       "sample estimates:\n",
       "odds ratio \n",
       "  0.230358 \n"
      ]
     },
     "metadata": {},
     "output_type": "display_data"
    },
    {
     "data": {
      "text/plain": [
       "     \n",
       "      both BRCA1 BRCA2\n",
       "  HRD    3     3     3\n",
       "  HRP    0     6     5"
      ]
     },
     "metadata": {},
     "output_type": "display_data"
    },
    {
     "data": {
      "text/plain": [
       "\n",
       "\tFisher's Exact Test for Count Data\n",
       "\n",
       "data:  matrix(c(3, 3, 6, 5), byrow = T, nrow = 2)\n",
       "p-value = 1\n",
       "alternative hypothesis: true odds ratio is not equal to 1\n",
       "95 percent confidence interval:\n",
       " 0.07422606 9.44657665\n",
       "sample estimates:\n",
       "odds ratio \n",
       " 0.8423463 \n"
      ]
     },
     "metadata": {},
     "output_type": "display_data"
    },
    {
     "data": {
      "text/plain": [
       "                                        \n",
       "                                         both BRCA1 BRCA2\n",
       "  Complex combination of SVs without LOF    0     3     1\n",
       "  Duplication spanning gene (COPY_GAIN)     0     0     6\n",
       "  Inversion spanning gene (INV_SPAN)        3     6     0\n",
       "  SV without LOF                            0     0     1"
      ]
     },
     "metadata": {},
     "output_type": "display_data"
    }
   ],
   "source": [
    "table(df$HRD,df$BRCAstatus)\n",
    "fisher.test(matrix(c(1,3,5,3),byrow=T,nrow=2))\n",
    "\n",
    "table(df$HRD,df$whichBRCA)\n",
    "fisher.test(matrix(c(3,3,6,5),byrow=T,nrow=2))\n",
    "\n",
    "table(df$BRCAstatus,df$whichBRCA)"
   ]
  },
  {
   "cell_type": "markdown",
   "metadata": {},
   "source": [
    "In general, looks like HRD samples are those with inversions at BRCA1 and HRP are those with duplications at BRCA2"
   ]
  },
  {
   "cell_type": "code",
   "execution_count": 181,
   "metadata": {
    "collapsed": false
   },
   "outputs": [
    {
     "name": "stdout",
     "output_type": "stream",
     "text": [
      "[1] \"Facets_WGD_score\"\n"
     ]
    },
    {
     "name": "stderr",
     "output_type": "stream",
     "text": [
      "Warning message in wilcox.test.default(x = c(0.954, 0.801, 0.148, 0.524, 0.674, :\n",
      "“cannot compute exact p-value with ties”"
     ]
    },
    {
     "name": "stdout",
     "output_type": "stream",
     "text": [
      "\n",
      "\tWilcoxon rank sum test with continuity correction\n",
      "\n",
      "data:  df[, i] by df$HRD\n",
      "W = 51.5, p-value = 0.9092\n",
      "alternative hypothesis: true location shift is not equal to 0\n",
      "\n",
      "[1] \"Purity\"\n",
      "\n",
      "\tWilcoxon rank sum test\n",
      "\n",
      "data:  df[, i] by df$HRD\n",
      "W = 44, p-value = 0.7103\n",
      "alternative hypothesis: true location shift is not equal to 0\n",
      "\n",
      "[1] \"AvPloidy\"\n",
      "\n",
      "\tWilcoxon rank sum test\n",
      "\n",
      "data:  df[, i] by df$HRD\n",
      "W = 68, p-value = 0.1754\n",
      "alternative hypothesis: true location shift is not equal to 0\n",
      "\n",
      "[1] \"Mutational_load\"\n",
      "\n",
      "\tWilcoxon rank sum test\n",
      "\n",
      "data:  df[, i] by df$HRD\n",
      "W = 94, p-value = 0.0002262\n",
      "alternative hypothesis: true location shift is not equal to 0\n",
      "\n",
      "[1] \"SV_load\"\n",
      "\n",
      "\tWilcoxon rank sum test\n",
      "\n",
      "data:  df[, i] by df$HRD\n",
      "W = 87, p-value = 0.003144\n",
      "alternative hypothesis: true location shift is not equal to 0\n",
      "\n",
      "[1] \"CNV_load\"\n"
     ]
    },
    {
     "name": "stderr",
     "output_type": "stream",
     "text": [
      "Warning message in wilcox.test.default(x = c(273L, 196L, 75L, 98L, 335L, 73L, 131L, :\n",
      "“cannot compute exact p-value with ties”"
     ]
    },
    {
     "name": "stdout",
     "output_type": "stream",
     "text": [
      "\n",
      "\tWilcoxon rank sum test with continuity correction\n",
      "\n",
      "data:  df[, i] by df$HRD\n",
      "W = 63, p-value = 0.3231\n",
      "alternative hypothesis: true location shift is not equal to 0\n",
      "\n"
     ]
    }
   ],
   "source": [
    "for (i in vars_toconsider){\n",
    "    print(i)\n",
    "    print(wilcox.test(df[,i] ~ df$HRD))\n",
    "}"
   ]
  },
  {
   "cell_type": "markdown",
   "metadata": {},
   "source": [
    "## Compound mutations"
   ]
  },
  {
   "cell_type": "code",
   "execution_count": 184,
   "metadata": {
    "collapsed": false
   },
   "outputs": [
    {
     "name": "stdout",
     "output_type": "stream",
     "text": [
      "             Sample Cohort   BRCAstatus                     BRCA1status\n",
      "AOCS_034   AOCS_034     AO Germline SNV                    Germline SNV\n",
      "AOCS_058   AOCS_058     AO Germline SNV                    Germline SNV\n",
      "AOCS_063   AOCS_063     AO  Somatic SNV Deletion overlapping exon (LOF)\n",
      "AOCS_145   AOCS_145     AO Germline SNV                    Germline SNV\n",
      "AOCS_147   AOCS_147     AO  Somatic SNV Deletion overlapping exon (LOF)\n",
      "AOCS_153   AOCS_153     AO Germline SNV                            None\n",
      "DO28273     DO28273     DO  Somatic SNV                            None\n",
      "DO31869     DO31869     DO  Somatic SNV Deletion overlapping exon (LOF)\n",
      "DO32237     DO32237     DO Germline SNV Deletion overlapping exon (LOF)\n",
      "DO32391     DO32391     DO  Somatic SNV                     Somatic SNV\n",
      "DO32420     DO32420     DO Germline SNV                    Germline SNV\n",
      "SHGSOC001 SHGSOC001     SH Germline SNV                    Germline SNV\n",
      "SHGSOC009 SHGSOC009     SH Germline SNV                            None\n",
      "SHGSOC031 SHGSOC031     SH  Somatic SNV                     Somatic SNV\n",
      "SHGSOC090 SHGSOC090     SH  Somatic SNV Deletion overlapping exon (LOF)\n",
      "                                     BRCA2status   BRCAstatus_SV\n",
      "AOCS_034         Deletion overlapping exon (LOF) Double deletion\n",
      "AOCS_058                                    None Single deletion\n",
      "AOCS_063                             Somatic SNV Double deletion\n",
      "AOCS_145                                    None Single deletion\n",
      "AOCS_147                             Somatic SNV Double deletion\n",
      "AOCS_153                            Germline SNV Single deletion\n",
      "DO28273                              Somatic SNV Single deletion\n",
      "DO31869                              Somatic SNV Double deletion\n",
      "DO32237                             Germline SNV Double deletion\n",
      "DO32391   Complex combination of SVs without LOF Single deletion\n",
      "DO32420                                     None Single deletion\n",
      "SHGSOC001                                   None Single deletion\n",
      "SHGSOC009                           Germline SNV Single deletion\n",
      "SHGSOC031                                   None Single deletion\n",
      "SHGSOC090                            Somatic SNV Double deletion\n",
      "                           BRCA1status_SV\n",
      "AOCS_034  Deletion overlapping exon (LOF)\n",
      "AOCS_058  Deletion overlapping exon (LOF)\n",
      "AOCS_063  Deletion overlapping exon (LOF)\n",
      "AOCS_145  Deletion overlapping exon (LOF)\n",
      "AOCS_147  Deletion overlapping exon (LOF)\n",
      "AOCS_153                        SV absent\n",
      "DO28273                         SV absent\n",
      "DO31869   Deletion overlapping exon (LOF)\n",
      "DO32237   Deletion overlapping exon (LOF)\n",
      "DO32391   Deletion overlapping exon (LOF)\n",
      "DO32420   Deletion overlapping exon (LOF)\n",
      "SHGSOC001 Deletion overlapping exon (LOF)\n",
      "SHGSOC009                       SV absent\n",
      "SHGSOC031 Deletion overlapping exon (LOF)\n",
      "SHGSOC090 Deletion overlapping exon (LOF)\n",
      "                                  BRCA2status_SV         BRCA1status_compound\n",
      "AOCS_034         Deletion overlapping exon (LOF) SNV + deletions (both genes)\n",
      "AOCS_058                               SV absent   SNV + deletion (same gene)\n",
      "AOCS_063         Deletion overlapping exon (LOF)                     Excluded\n",
      "AOCS_145                               SV absent   SNV + deletion (same gene)\n",
      "AOCS_147         Deletion overlapping exon (LOF)                     Excluded\n",
      "AOCS_153         Deletion overlapping exon (LOF)                         None\n",
      "DO28273          Deletion overlapping exon (LOF)                         None\n",
      "DO31869          Deletion overlapping exon (LOF)                     Excluded\n",
      "DO32237          Deletion overlapping exon (LOF)                     Excluded\n",
      "DO32391   Complex combination of SVs without LOF   SNV + deletion (same gene)\n",
      "DO32420                                SV absent   SNV + deletion (same gene)\n",
      "SHGSOC001                              SV absent   SNV + deletion (same gene)\n",
      "SHGSOC009        Deletion overlapping exon (LOF)                         None\n",
      "SHGSOC031                              SV absent   SNV + deletion (same gene)\n",
      "SHGSOC090        Deletion overlapping exon (LOF)                     Excluded\n",
      "                  BRCA2status_compound          BRCAstatus_compound\n",
      "AOCS_034                      Excluded SNV + deletions (both genes)\n",
      "AOCS_058                          None   SNV + deletion (same gene)\n",
      "AOCS_063  SNV + deletions (both genes) SNV + deletions (both genes)\n",
      "AOCS_145                          None   SNV + deletion (same gene)\n",
      "AOCS_147  SNV + deletions (both genes) SNV + deletions (both genes)\n",
      "AOCS_153    SNV + deletion (same gene)   SNV + deletion (same gene)\n",
      "DO28273     SNV + deletion (same gene)   SNV + deletion (same gene)\n",
      "DO31869   SNV + deletions (both genes) SNV + deletions (both genes)\n",
      "DO32237   SNV + deletions (both genes) SNV + deletions (both genes)\n",
      "DO32391                       Excluded   SNV + deletion (same gene)\n",
      "DO32420                           None   SNV + deletion (same gene)\n",
      "SHGSOC001                         None   SNV + deletion (same gene)\n",
      "SHGSOC009   SNV + deletion (same gene)   SNV + deletion (same gene)\n",
      "SHGSOC031                         None   SNV + deletion (same gene)\n",
      "SHGSOC090 SNV + deletions (both genes) SNV + deletions (both genes)\n",
      "               Double_del BRCA1_LOH BRCA2_LOH BRCA1_pro_meth\n",
      "AOCS_034  Double deletion         1         0              0\n",
      "AOCS_058             <NA>         1         0              0\n",
      "AOCS_063  Double deletion         1         0              0\n",
      "AOCS_145             <NA>         1         1              0\n",
      "AOCS_147  Double deletion         1         1              0\n",
      "AOCS_153             <NA>         1         1              0\n",
      "DO28273              <NA>         1         0              0\n",
      "DO31869   Double deletion         1         1              0\n",
      "DO32237   Double deletion         1         1              0\n",
      "DO32391              <NA>         1         1              0\n",
      "DO32420              <NA>         1         1              0\n",
      "SHGSOC001            <NA>         1         0              0\n",
      "SHGSOC009            <NA>         1         0              0\n",
      "SHGSOC031            <NA>         1         0              0\n",
      "SHGSOC090 Double deletion         1         1              0\n",
      "          non_BRCA_HR_Germline_SNV non_BRCA_HR_Somatic_SNV BRCA1_VST BRCA2_VST\n",
      "AOCS_034                         0                       0  9.344320  8.321973\n",
      "AOCS_058                         0                       0  8.377909  8.942548\n",
      "AOCS_063                         1                       0  9.433989  8.165461\n",
      "AOCS_145                         0                       0  7.524486  7.506738\n",
      "AOCS_147                         0                       0  9.566997  8.753282\n",
      "AOCS_153                         0                       0 10.652222  8.781529\n",
      "DO28273                          0                       0  9.866755  6.811743\n",
      "DO31869                          0                       0        NA        NA\n",
      "DO32237                          0                       0  9.048147  8.399171\n",
      "DO32391                          0                       0  8.529165  9.524803\n",
      "DO32420                          0                       0  8.382816  8.925314\n",
      "SHGSOC001                        0                       0  9.986836 10.787757\n",
      "SHGSOC009                        0                       0 10.753583 11.947525\n",
      "SHGSOC031                        0                       1 10.011830  9.913858\n",
      "SHGSOC090                        0                       0 11.166989  9.957845\n",
      "          Facets_WGD_score WGD   Purity AvPloidy Mutational_load SV_load\n",
      "AOCS_034             0.199   0 0.766450 1.709954            7277     373\n",
      "AOCS_058             0.995   1 0.817159 1.782745           10189     314\n",
      "AOCS_063             0.135   0 0.558825 1.960752            7745     209\n",
      "AOCS_145             0.834   1 0.790443 3.628474           12180     484\n",
      "AOCS_147             0.193   0 0.649449 1.749051           15352     467\n",
      "AOCS_153             0.921   1 0.690871 1.874215            8697     257\n",
      "DO28273              0.194   0 0.514453 1.644939            6831     217\n",
      "DO31869              0.162   0 0.927068 1.740209           14685     504\n",
      "DO32237              0.100   0 0.887810 1.753985           11362     315\n",
      "DO32391              0.197   0 0.894029 1.796213            6644     786\n",
      "DO32420              0.201   0 0.876648 2.030421            5972     298\n",
      "SHGSOC001            0.772   1 0.788513 2.045791            7314     485\n",
      "SHGSOC009            0.715   1 0.698762 2.757440           22354    1101\n",
      "SHGSOC031            0.060   0 0.774474 1.883491            9533     146\n",
      "SHGSOC090            0.705   1 0.530436 1.823436           93560     477\n",
      "          CNV_load   HR_DE_sig   ReSig_3   ReSig_5   HRDetect HRD\n",
      "AOCS_034       344 -11.4161224 143.86718  44.63217 0.99998986 HRD\n",
      "AOCS_058       300 -15.9134184  88.51979  38.25922 0.99992592 HRD\n",
      "AOCS_063       187  -3.9409758   0.00000  56.39953 0.99931342 HRD\n",
      "AOCS_145       277  -7.3011577 138.43939   0.00000 0.99993410 HRD\n",
      "AOCS_147       292  -0.4364413   0.00000   0.00000 0.99809271 HRD\n",
      "AOCS_153       298  -5.6955891   0.00000  81.06410 0.99988430 HRD\n",
      "DO28273        179   4.2308832   0.00000  88.46736 0.99499916 HRD\n",
      "DO31869        194          NA   0.00000 179.64031 0.99972380 HRD\n",
      "DO32237        131  -4.5713930   0.00000 167.78205 0.99679065 HRD\n",
      "DO32391        188  -9.1885177 250.36016   0.00000 0.99963408 HRD\n",
      "DO32420        139  -7.5627177  32.50743   0.00000 0.99501028 HRD\n",
      "SHGSOC001      171  -4.9666413  72.13344   0.00000 0.98176245 HRD\n",
      "SHGSOC009      206  -4.6092326   0.00000 123.07424 0.99964231 HRD\n",
      "SHGSOC031      103   2.4702038   0.00000   0.00000 0.02993811 HRP\n",
      "SHGSOC090      222   1.9719120   0.00000   0.00000 0.28079871 HRP\n"
     ]
    }
   ],
   "source": [
    "compound<-hrd_df[hrd_df$MutCat==\"Compound same or both\",]\n",
    "df<-sampleInfo[compound[,\"Sample\"],]\n",
    "df$HRD<-ifelse(df$HRDetect>0.7,\"HRD\",\"HRP\")\n",
    "print(df)"
   ]
  },
  {
   "cell_type": "markdown",
   "metadata": {},
   "source": [
    "## Cohort specific mutational load"
   ]
  },
  {
   "cell_type": "code",
   "execution_count": 196,
   "metadata": {
    "collapsed": false
   },
   "outputs": [
    {
     "data": {
      "image/png": "[encoded data removed]",
      "text/plain": [
       "plot without title"
      ]
     },
     "metadata": {},
     "output_type": "display_data"
    }
   ],
   "source": [
    "library(gridExtra)\n",
    "options(repr.plot.width=10)\n",
    "g1<-ggplot(sampleInfo,aes(x=Cohort,y=Mutational_load))+geom_boxplot()\n",
    "g2<-ggplot(sampleInfo,aes(x=Cohort,y=SV_load))+geom_boxplot()\n",
    "g3<-ggplot(sampleInfo,aes(x=Cohort,y=CNV_load))+geom_boxplot()\n",
    "grid.arrange(g1,g2,g3,nrow=1)"
   ]
  },
  {
   "cell_type": "code",
   "execution_count": 192,
   "metadata": {
    "collapsed": false
   },
   "outputs": [
    {
     "data": {
      "text/html": [
       "11318.1375"
      ],
      "text/latex": [
       "11318.1375"
      ],
      "text/markdown": [
       "11318.1375"
      ],
      "text/plain": [
       "[1] 11318.14"
      ]
     },
     "metadata": {},
     "output_type": "display_data"
    },
    {
     "data": {
      "text/html": [
       "12188.7045454545"
      ],
      "text/latex": [
       "12188.7045454545"
      ],
      "text/markdown": [
       "12188.7045454545"
      ],
      "text/plain": [
       "[1] 12188.7"
      ]
     },
     "metadata": {},
     "output_type": "display_data"
    },
    {
     "data": {
      "text/html": [
       "21554.7777777778"
      ],
      "text/latex": [
       "21554.7777777778"
      ],
      "text/markdown": [
       "21554.7777777778"
      ],
      "text/plain": [
       "[1] 21554.78"
      ]
     },
     "metadata": {},
     "output_type": "display_data"
    }
   ],
   "source": [
    "sum(sampleInfo[sampleInfo$Cohort==\"AO\",\"Mutational_load\"])/80\n",
    "sum(sampleInfo[sampleInfo$Cohort==\"DO\",\"Mutational_load\"])/44\n",
    "sum(sampleInfo[sampleInfo$Cohort==\"SH\",\"Mutational_load\"])/81"
   ]
  },
  {
   "cell_type": "code",
   "execution_count": null,
   "metadata": {
    "collapsed": true
   },
   "outputs": [],
   "source": []
  }
 ],
 "metadata": {
  "kernelspec": {
   "display_name": "R",
   "language": "R",
   "name": "ir"
  },
  "language_info": {
   "codemirror_mode": "r",
   "file_extension": ".r",
   "mimetype": "text/x-r-source",
   "name": "R",
   "pygments_lexer": "r",
   "version": "3.6.0"
  },
  "toc": {
   "nav_menu": {},
   "number_sections": true,
   "sideBar": true,
   "skip_h1_title": false,
   "toc_cell": false,
   "toc_position": {},
   "toc_section_display": "block",
   "toc_window_display": false
  }
 },
 "nbformat": 4,
 "nbformat_minor": 2
}
