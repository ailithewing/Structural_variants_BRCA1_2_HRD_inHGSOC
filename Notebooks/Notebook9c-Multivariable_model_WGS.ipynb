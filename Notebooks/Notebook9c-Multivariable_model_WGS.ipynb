{
 "cells": [
  {
   "cell_type": "markdown",
   "metadata": {},
   "source": [
    "*Ewing et al (2020) Structural variants at the BRCA1/2 loci are a common source of homologous repair deficiency in high grade serous ovarian carcinoma*"
   ]
  },
  {
   "cell_type": "markdown",
   "metadata": {},
   "source": [
    "# Notebook 9c - Multivariable modelling using elastic net on genomic features only \n"
   ]
  },
  {
   "cell_type": "markdown",
   "metadata": {},
   "source": [
    "## Load libraries"
   ]
  },
  {
   "cell_type": "code",
   "execution_count": null,
   "metadata": {
    "collapsed": false
   },
   "outputs": [],
   "source": [
    "library(tximport)\n",
    "require(DESeq2)\n",
    "library(caret)\n",
    "library(caTools)"
   ]
  },
  {
   "cell_type": "markdown",
   "metadata": {},
   "source": [
    "## Load dataset"
   ]
  },
  {
   "cell_type": "code",
   "execution_count": 5,
   "metadata": {
    "collapsed": true
   },
   "outputs": [],
   "source": [
    "load(\"Robjecttosetup_reducedmultivariablemodel.RData\")"
   ]
  },
  {
   "cell_type": "markdown",
   "metadata": {},
   "source": [
    "## Model"
   ]
  },
  {
   "cell_type": "markdown",
   "metadata": {},
   "source": [
    "This section performs the following steps 100 times:\n",
    "\n",
    "- Partition the data\n",
    "- Fit an elastic net on the training set using 10-fold cross validation to determine parameters\n",
    "- Extract model coefficients\n",
    "- Extract model performance metrics"
   ]
  },
  {
   "cell_type": "code",
   "execution_count": 11,
   "metadata": {
    "collapsed": false
   },
   "outputs": [
    {
     "name": "stdout",
     "output_type": "stream",
     "text": [
      "[1] 1\n",
      "[1] \": Setting seed...\"\n",
      "[1] \"Partitioning data...\"\n",
      "[1] \"Fit elastic net...\"\n"
     ]
    },
    {
     "name": "stderr",
     "output_type": "stream",
     "text": [
      "Warning message in train.default(x, y, weights = w, ...):\n",
      "“The metric \"Accuracy\" was not in the result set. ROC will be used instead.”"
     ]
    },
    {
     "name": "stdout",
     "output_type": "stream",
     "text": [
      "[1] \"Get coefficients...\"\n",
      "[1] 2\n",
      "[1] \": Setting seed...\"\n",
      "[1] \"Partitioning data...\"\n",
      "[1] \"Fit elastic net...\"\n"
     ]
    },
    {
     "name": "stderr",
     "output_type": "stream",
     "text": [
      "Warning message in train.default(x, y, weights = w, ...):\n",
      "“The metric \"Accuracy\" was not in the result set. ROC will be used instead.”"
     ]
    },
    {
     "name": "stdout",
     "output_type": "stream",
     "text": [
      "[1] \"Get coefficients...\"\n",
      "[1] 3\n",
      "[1] \": Setting seed...\"\n",
      "[1] \"Partitioning data...\"\n",
      "[1] \"Fit elastic net...\"\n"
     ]
    },
    {
     "name": "stderr",
     "output_type": "stream",
     "text": [
      "Warning message in train.default(x, y, weights = w, ...):\n",
      "“The metric \"Accuracy\" was not in the result set. ROC will be used instead.”"
     ]
    },
    {
     "name": "stdout",
     "output_type": "stream",
     "text": [
      "[1] \"Get coefficients...\"\n",
      "[1] 4\n",
      "[1] \": Setting seed...\"\n",
      "[1] \"Partitioning data...\"\n",
      "[1] \"Fit elastic net...\"\n"
     ]
    },
    {
     "name": "stderr",
     "output_type": "stream",
     "text": [
      "Warning message in train.default(x, y, weights = w, ...):\n",
      "“The metric \"Accuracy\" was not in the result set. ROC will be used instead.”"
     ]
    },
    {
     "name": "stdout",
     "output_type": "stream",
     "text": [
      "[1] \"Get coefficients...\"\n",
      "[1] 5\n",
      "[1] \": Setting seed...\"\n",
      "[1] \"Partitioning data...\"\n",
      "[1] \"Fit elastic net...\"\n"
     ]
    },
    {
     "name": "stderr",
     "output_type": "stream",
     "text": [
      "Warning message in train.default(x, y, weights = w, ...):\n",
      "“The metric \"Accuracy\" was not in the result set. ROC will be used instead.”"
     ]
    },
    {
     "name": "stdout",
     "output_type": "stream",
     "text": [
      "[1] \"Get coefficients...\"\n",
      "[1] 6\n",
      "[1] \": Setting seed...\"\n",
      "[1] \"Partitioning data...\"\n",
      "[1] \"Fit elastic net...\"\n"
     ]
    },
    {
     "name": "stderr",
     "output_type": "stream",
     "text": [
      "Warning message in train.default(x, y, weights = w, ...):\n",
      "“The metric \"Accuracy\" was not in the result set. ROC will be used instead.”"
     ]
    },
    {
     "name": "stdout",
     "output_type": "stream",
     "text": [
      "[1] \"Get coefficients...\"\n",
      "[1] 7\n",
      "[1] \": Setting seed...\"\n",
      "[1] \"Partitioning data...\"\n",
      "[1] \"Fit elastic net...\"\n"
     ]
    },
    {
     "name": "stderr",
     "output_type": "stream",
     "text": [
      "Warning message in train.default(x, y, weights = w, ...):\n",
      "“The metric \"Accuracy\" was not in the result set. ROC will be used instead.”"
     ]
    },
    {
     "name": "stdout",
     "output_type": "stream",
     "text": [
      "[1] \"Get coefficients...\"\n",
      "[1] 8\n",
      "[1] \": Setting seed...\"\n",
      "[1] \"Partitioning data...\"\n",
      "[1] \"Fit elastic net...\"\n"
     ]
    },
    {
     "name": "stderr",
     "output_type": "stream",
     "text": [
      "Warning message in train.default(x, y, weights = w, ...):\n",
      "“The metric \"Accuracy\" was not in the result set. ROC will be used instead.”"
     ]
    },
    {
     "name": "stdout",
     "output_type": "stream",
     "text": [
      "[1] \"Get coefficients...\"\n",
      "[1] 9\n",
      "[1] \": Setting seed...\"\n",
      "[1] \"Partitioning data...\"\n",
      "[1] \"Fit elastic net...\"\n"
     ]
    },
    {
     "name": "stderr",
     "output_type": "stream",
     "text": [
      "Warning message in train.default(x, y, weights = w, ...):\n",
      "“The metric \"Accuracy\" was not in the result set. ROC will be used instead.”"
     ]
    },
    {
     "name": "stdout",
     "output_type": "stream",
     "text": [
      "[1] \"Get coefficients...\"\n",
      "[1] 10\n",
      "[1] \": Setting seed...\"\n",
      "[1] \"Partitioning data...\"\n",
      "[1] \"Fit elastic net...\"\n"
     ]
    },
    {
     "name": "stderr",
     "output_type": "stream",
     "text": [
      "Warning message in train.default(x, y, weights = w, ...):\n",
      "“The metric \"Accuracy\" was not in the result set. ROC will be used instead.”"
     ]
    },
    {
     "name": "stdout",
     "output_type": "stream",
     "text": [
      "[1] \"Get coefficients...\"\n"
     ]
    },
    {
     "data": {
      "text/html": [
       "<table>\n",
       "<caption>A matrix: 4 × 10</caption>\n",
       "<tbody>\n",
       "\t<tr><th scope=row>Accuracy</th><td>0.6829268</td><td>0.804878</td><td>0.7073171</td><td>0.804878</td><td>0.7317073</td><td>0.6341463</td><td>0.6585366</td><td>0.7317073</td><td>0.804878</td><td>0.7560976</td></tr>\n",
       "\t<tr><th scope=row>Sensitivity</th><td>0.7222222</td><td>0.8636364</td><td>0.9230769</td><td>1</td><td>1</td><td>0.8571429</td><td>0.8571429</td><td>0.8181818</td><td>0.9333333</td><td>1</td></tr>\n",
       "\t<tr><th scope=row>Specificity</th><td>0.6521739</td><td>0.7368421</td><td>0.6071429</td><td>0.7333333</td><td>0.6071429</td><td>0.5185185</td><td>0.5555556</td><td>0.7</td><td>0.7307692</td><td>0.6</td></tr>\n",
       "\t<tr><th scope=row>AUC</th><td>0.6845238</td><td>0.807598</td><td>0.7330918</td><td>0.7894737</td><td>0.7708333</td><td>0.6775</td><td>0.6911765</td><td>0.7065217</td><td>0.8083333</td><td>0.8076923</td></tr>\n",
       "</tbody>\n",
       "</table>\n"
      ],
      "text/latex": [
       "A matrix: 4 × 10\n",
       "\\begin{tabular}{r|llllllllll}\n",
       "\tAccuracy & 0.6829268 & 0.804878 & 0.7073171 & 0.804878 & 0.7317073 & 0.6341463 & 0.6585366 & 0.7317073 & 0.804878 & 0.7560976\\\\\n",
       "\tSensitivity & 0.7222222 & 0.8636364 & 0.9230769 & 1 & 1 & 0.8571429 & 0.8571429 & 0.8181818 & 0.9333333 & 1\\\\\n",
       "\tSpecificity & 0.6521739 & 0.7368421 & 0.6071429 & 0.7333333 & 0.6071429 & 0.5185185 & 0.5555556 & 0.7 & 0.7307692 & 0.6\\\\\n",
       "\tAUC & 0.6845238 & 0.807598 & 0.7330918 & 0.7894737 & 0.7708333 & 0.6775 & 0.6911765 & 0.7065217 & 0.8083333 & 0.8076923\\\\\n",
       "\\end{tabular}\n"
      ],
      "text/markdown": [
       "\n",
       "A matrix: 4 × 10\n",
       "\n",
       "| Accuracy | 0.6829268 | 0.804878 | 0.7073171 | 0.804878 | 0.7317073 | 0.6341463 | 0.6585366 | 0.7317073 | 0.804878 | 0.7560976 |\n",
       "| Sensitivity | 0.7222222 | 0.8636364 | 0.9230769 | 1 | 1 | 0.8571429 | 0.8571429 | 0.8181818 | 0.9333333 | 1 |\n",
       "| Specificity | 0.6521739 | 0.7368421 | 0.6071429 | 0.7333333 | 0.6071429 | 0.5185185 | 0.5555556 | 0.7 | 0.7307692 | 0.6 |\n",
       "| AUC | 0.6845238 | 0.807598 | 0.7330918 | 0.7894737 | 0.7708333 | 0.6775 | 0.6911765 | 0.7065217 | 0.8083333 | 0.8076923 |\n",
       "\n"
      ],
      "text/plain": [
       "            [,1]      [,2]      [,3]      [,4]      [,5]      [,6]     \n",
       "Accuracy    0.6829268 0.804878  0.7073171 0.804878  0.7317073 0.6341463\n",
       "Sensitivity 0.7222222 0.8636364 0.9230769 1         1         0.8571429\n",
       "Specificity 0.6521739 0.7368421 0.6071429 0.7333333 0.6071429 0.5185185\n",
       "AUC         0.6845238 0.807598  0.7330918 0.7894737 0.7708333 0.6775   \n",
       "            [,7]      [,8]      [,9]      [,10]    \n",
       "Accuracy    0.6585366 0.7317073 0.804878  0.7560976\n",
       "Sensitivity 0.8571429 0.8181818 0.9333333 1        \n",
       "Specificity 0.5555556 0.7       0.7307692 0.6      \n",
       "AUC         0.6911765 0.7065217 0.8083333 0.8076923"
      ]
     },
     "metadata": {},
     "output_type": "display_data"
    }
   ],
   "source": [
    "df<-numeric()\n",
    "perf_list<-numeric()\n",
    "\n",
    "performance_metrics = function(actual, predicted) {\n",
    "  acc<-sum(actual == predicted)/length(actual)\n",
    "  TP<-  sum(actual=='HRD'& predicted=='HRD')\n",
    "  TN<-  sum(actual=='HRP'& predicted=='HRP')\n",
    "  FP<-  sum(actual=='HRD'& predicted=='HRP')\n",
    "  FN<-  sum(actual=='HRP'& predicted=='HRD')  \n",
    "  sensitivity<-TP/(TP+FN)  \n",
    "  specificity<-TN/(TN+FP)\n",
    "  auc<-  colAUC(as.numeric(predict(model, test.data)), test.data$HRDeficient)\n",
    "  r<-list(Accuracy=acc,Sensitivity=sensitivity,Specificity=specificity,AUC=auc[1])\n",
    "    return(r)\n",
    "}\n",
    "\n",
    "i<-0\n",
    "while (length(df) <2200 | length(df)==0 ){\n",
    "  i<-i+1\n",
    "    print(i)\n",
    "    print(\": Setting seed...\")\n",
    "    set.seed(489+i)\n",
    "\n",
    "    print(\"Partitioning data...\")\n",
    "    train = sample(1:nrow(sampleInfo_analysis), nrow(sampleInfo_analysis)*0.8)\n",
    "    train.data<-sampleInfo_analysis[train,]\n",
    "    test.data<-sampleInfo_analysis[-train,]\n",
    "    \n",
    "    if (dim(table(train.data$BRCA1_LOH))==1){\n",
    "        next\n",
    "    }\n",
    "    \n",
    "    print(\"Fit elastic net...\")\n",
    "    model <- train(HRDeficient ~., \n",
    "                   data = train.data, \n",
    "                   method = \"glmnet\",\n",
    "                   trControl = trainControl(\"cv\", \n",
    "                                            number = 10,\n",
    "                                            summaryFunction = twoClassSummary,\n",
    "                                            classProbs = TRUE),\n",
    "                   standardize=TRUE,                          \n",
    "                   tuneLength = 10\n",
    "    )\n",
    "\n",
    "    print(\"Get coefficients...\")\n",
    "    res<-coef(model$finalModel, model$bestTune$lambda)\n",
    "\n",
    "    df<-cbind(df,as.numeric(res))\n",
    "    \n",
    "    perf_list<-cbind(perf_list,performance_metrics(actual = test.data$HRDeficient,\n",
    "         predicted = predict(model, newdata = test.data)))  \n",
    "}\n",
    "\n",
    "save(df,file=\"reduced_df_1_100_loh.RData\")\n",
    "save(perf_list,file=\"reduced_df_1_100_perf_loh.RData\")"
   ]
  }
 ],
 "metadata": {
  "kernelspec": {
   "display_name": "R",
   "language": "R",
   "name": "ir"
  },
  "language_info": {
   "codemirror_mode": "r",
   "file_extension": ".r",
   "mimetype": "text/x-r-source",
   "name": "R",
   "pygments_lexer": "r",
   "version": "3.6.0"
  },
  "toc": {
   "nav_menu": {},
   "number_sections": false,
   "sideBar": true,
   "skip_h1_title": false,
   "toc_cell": false,
   "toc_position": {},
   "toc_section_display": "block",
   "toc_window_display": true
  }
 },
 "nbformat": 4,
 "nbformat_minor": 2
}
